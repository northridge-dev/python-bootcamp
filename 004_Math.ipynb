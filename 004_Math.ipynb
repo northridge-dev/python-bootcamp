{
 "cells": [
  {
   "cell_type": "markdown",
   "id": "d9ae3320-67b4-48ab-9440-3be31094f380",
   "metadata": {},
   "source": [
    "# Math!\n",
    "\n",
    "You already know that Python can perform arithmetic calculations. Let's dig a little deeper into how Python represents and works with numbers."
   ]
  },
  {
   "cell_type": "markdown",
   "id": "f245c2cf-7299-4a03-adc5-e48dc985cf86",
   "metadata": {},
   "source": [
    "Python has three built-in number types:\n",
    "1. **integers**: whole numbers\n",
    "2. **floating-point numbers** (aka \"floats\"): decimal representations of fractional numbers\n",
    "3. **complex numbers**: numbers that include an imaginary component\n",
    "\n",
    "We'll only worry about the first two."
   ]
  },
  {
   "cell_type": "markdown",
   "id": "96434d65-20e4-4243-a724-2ce4e7be54e3",
   "metadata": {},
   "source": [
    "Here are a few examples:"
   ]
  },
  {
   "cell_type": "code",
   "execution_count": null,
   "id": "889371ed-6c81-4a0c-8220-5ec8e1e90e93",
   "metadata": {},
   "outputs": [],
   "source": [
    "integer_example = 5\n",
    "float_example = 5.0\n",
    "another_float_example = 5.42"
   ]
  },
  {
   "cell_type": "markdown",
   "id": "631f28de-e133-46d4-8e04-b49430b8d314",
   "metadata": {},
   "source": [
    "You can use the built-in `type` function to ask Python to tell you what data type a particular value has:"
   ]
  },
  {
   "cell_type": "code",
   "execution_count": null,
   "id": "602da0b7-47ef-4b72-afa1-fbafe8697ee2",
   "metadata": {},
   "outputs": [],
   "source": [
    "type(integer_example)"
   ]
  },
  {
   "cell_type": "code",
   "execution_count": null,
   "id": "5dc1078e-fab2-40f9-a32e-bc29f028e056",
   "metadata": {},
   "outputs": [],
   "source": [
    "type(float_example)"
   ]
  },
  {
   "cell_type": "markdown",
   "id": "2168c7dc-603a-455d-8b98-fb9eb695681f",
   "metadata": {},
   "source": [
    "## Casting"
   ]
  },
  {
   "cell_type": "markdown",
   "id": "21927f51-118c-420e-a8ab-3998daf96168",
   "metadata": {},
   "source": [
    "You can **cast** one type to another, but it doesn't always work the way you might want or expect:"
   ]
  },
  {
   "cell_type": "markdown",
   "id": "cc500ccd-9e3e-4cbc-9d97-729331d3830f",
   "metadata": {},
   "source": [
    "It's usually not a problem to cast an integer to a floating point number."
   ]
  },
  {
   "cell_type": "code",
   "execution_count": null,
   "id": "9f277897-c905-4aca-997e-f213a9878f0c",
   "metadata": {},
   "outputs": [],
   "source": [
    "cast_to_float = float(integer_example)\n",
    "cast_to_float, type(cast_to_float), integer_example == cast_to_float"
   ]
  },
  {
   "cell_type": "markdown",
   "id": "77c9689c-6dee-4289-bdb6-290ecb2192f3",
   "metadata": {},
   "source": [
    "But casting integers to floats doesn't always work. Here's an example where Python's arbitrary-precision integers can be too long (too many digitis) to be represented as fixed-length floating point numbers."
   ]
  },
  {
   "cell_type": "code",
   "execution_count": null,
   "id": "2140280b-ffec-4510-9a53-72cbcabb4dc2",
   "metadata": {},
   "outputs": [],
   "source": [
    "big_integer = 123_456_789_123_456_789_123_456_789 # Python ignores the underscores, but they make large numbers more human-readable\n",
    "big_float = float(big_integer)\n",
    "big_integer, big_float, big_float == big_integer "
   ]
  },
  {
   "cell_type": "markdown",
   "id": "31b0315a-ca33-4aed-a5f2-0bf913ca8a18",
   "metadata": {},
   "source": [
    "And casting a floating point number to an integer can be \"lossy\": the fractional part of the floating point number just gets lopped off."
   ]
  },
  {
   "cell_type": "code",
   "execution_count": null,
   "id": "68ebd2fb-145e-47e9-8078-3f82af85b853",
   "metadata": {},
   "outputs": [],
   "source": [
    "cast_to_integer = int(another_float_example)\n",
    "cast_to_integer, type(cast_to_integer), another_float_example == cast_to_integer"
   ]
  },
  {
   "cell_type": "markdown",
   "id": "2c7c369e-4b7a-44ed-af69-9be823bceef7",
   "metadata": {},
   "source": [
    "When you divide two integers, Python will cast the result to a float for you:"
   ]
  },
  {
   "cell_type": "code",
   "execution_count": null,
   "id": "6ac5c0df-63f4-4598-b394-21a3134db9dd",
   "metadata": {},
   "outputs": [],
   "source": [
    "5 / 4"
   ]
  },
  {
   "cell_type": "markdown",
   "id": "8295c5c6-0cfe-456c-91b7-e78e7b200968",
   "metadata": {},
   "source": [
    "That's true even when the divisor goes evenly into the dividend."
   ]
  },
  {
   "cell_type": "code",
   "execution_count": null,
   "id": "ad3f403a-cd02-42cd-9280-ec6388a029e1",
   "metadata": {},
   "outputs": [],
   "source": [
    "6 / 3"
   ]
  },
  {
   "cell_type": "markdown",
   "id": "b58dc429-0890-4314-9c40-6b6824549433",
   "metadata": {},
   "source": [
    "If you try to add a float and an integer, what would you expect the sum to be, a float or an integer?"
   ]
  },
  {
   "cell_type": "code",
   "execution_count": null,
   "id": "0dcdc484-1e87-4718-9525-6254f5d6ebf2",
   "metadata": {},
   "outputs": [],
   "source": [
    "type(4 + 5.5)"
   ]
  },
  {
   "cell_type": "markdown",
   "id": "8b55ea77-83a4-4adb-a9fb-3d29a865ff00",
   "metadata": {},
   "source": [
    "There's plenty more to know about how Python internally represents numbers, but that can wait for another day. In fact, many professional developers would probably get themselves twisted up trying to explain it. And that's just fine! It's an example of **abstraction** -- we can use a data type or set of operators or a function without knowing everything about how they work \"under the hood\", which allows us to use our limited mental space for the problem we're currently trying to solve."
   ]
  },
  {
   "cell_type": "markdown",
   "id": "76fdd6c3-d2f1-4a4e-9077-a6d344d55046",
   "metadata": {},
   "source": [
    "## Casting Strings to Numbers"
   ]
  },
  {
   "cell_type": "markdown",
   "id": "a1f6c07f-2ddd-4006-bae5-e7ca71b7844d",
   "metadata": {},
   "source": [
    "You've already seen that strings, even if they *look* like numbers, don't behave like numbers:"
   ]
  },
  {
   "cell_type": "code",
   "execution_count": null,
   "id": "973d8606-eafc-4471-9722-7c2941782c67",
   "metadata": {},
   "outputs": [],
   "source": [
    "\"1\" + \"1\" + \"1\""
   ]
  },
  {
   "cell_type": "markdown",
   "id": "e3202568-aec0-42b9-af40-65d9d55503e8",
   "metadata": {},
   "source": [
    "But you can cast string to numbers, too!"
   ]
  },
  {
   "cell_type": "code",
   "execution_count": null,
   "id": "bd7b6ed9-238e-4ec7-ad76-a3527cb0dc52",
   "metadata": {},
   "outputs": [],
   "source": [
    "int(\"1\") + int(\"1\") + int(\"1\")"
   ]
  },
  {
   "cell_type": "markdown",
   "id": "8eb7a0b0-bf72-4605-ba15-79762782c536",
   "metadata": {},
   "source": [
    "And you can also cast strings to floats:"
   ]
  },
  {
   "cell_type": "code",
   "execution_count": null,
   "id": "3d8b68d1-8948-46b9-8b3d-4f38cae8c6c9",
   "metadata": {},
   "outputs": [],
   "source": [
    "float(\"5.99\") + float(\".01\")"
   ]
  },
  {
   "cell_type": "markdown",
   "id": "5037a677-b9cc-4a77-93a7-37be224d4bdd",
   "metadata": {},
   "source": [
    "Python even handles cases where the string you want to cast represents a number in a different base system (as long as you know what base system)."
   ]
  },
  {
   "cell_type": "code",
   "execution_count": null,
   "id": "a6708d1a-d1c5-4455-bcb6-def7b8165f9b",
   "metadata": {},
   "outputs": [],
   "source": [
    "binary_fifteen = \"1111\"\n",
    "int(binary_fifteen, 2)"
   ]
  },
  {
   "cell_type": "code",
   "execution_count": null,
   "id": "82895767-2b8b-4196-963e-a524e60b1921",
   "metadata": {},
   "outputs": [],
   "source": [
    "hexidecimal_fifteen = \"f\"\n",
    "int(hexidecimal_fifteen, 16)"
   ]
  },
  {
   "cell_type": "markdown",
   "id": "4a80ffba-ffa3-4426-9067-38c8932aa34e",
   "metadata": {},
   "source": [
    "(And just for the sake of completeness, I'll mention that you can also cast floats or integers to strings.)"
   ]
  },
  {
   "cell_type": "code",
   "execution_count": null,
   "id": "acb67d2f-0547-4056-bc98-43620bc75a38",
   "metadata": {},
   "outputs": [],
   "source": [
    "str(15)"
   ]
  },
  {
   "cell_type": "code",
   "execution_count": null,
   "id": "160235d0-6839-4d04-bca5-043472121365",
   "metadata": {},
   "outputs": [],
   "source": [
    "str(4.56)"
   ]
  },
  {
   "cell_type": "code",
   "execution_count": null,
   "id": "b2411b76-c11e-4c41-97ca-19e0b78a9735",
   "metadata": {},
   "outputs": [],
   "source": [
    "str(15) + str(4.56)"
   ]
  },
  {
   "cell_type": "markdown",
   "id": "557a2177-e601-4604-8143-452069e23a04",
   "metadata": {},
   "source": [
    "##### Operators\n",
    "\n",
    "Here's a quick rundown of the math operators."
   ]
  },
  {
   "cell_type": "markdown",
   "id": "0fb9d2ee-b646-4919-b677-8c09d87aaee2",
   "metadata": {},
   "source": [
    "Addition"
   ]
  },
  {
   "cell_type": "code",
   "execution_count": null,
   "id": "8abe5e50-d7b0-4bab-8604-dbe45d266458",
   "metadata": {},
   "outputs": [],
   "source": [
    "5 + 3"
   ]
  },
  {
   "cell_type": "markdown",
   "id": "c5608ecc-ef75-4cb9-a3fc-530890b4e7ce",
   "metadata": {},
   "source": [
    "Subtraction"
   ]
  },
  {
   "cell_type": "code",
   "execution_count": null,
   "id": "a96accec-e167-40fd-af9c-05feaec1992d",
   "metadata": {},
   "outputs": [],
   "source": [
    "5 - 3"
   ]
  },
  {
   "cell_type": "markdown",
   "id": "1582855e-22a9-48db-bb70-cb189ab50f8a",
   "metadata": {},
   "source": [
    "Multiplication"
   ]
  },
  {
   "cell_type": "code",
   "execution_count": null,
   "id": "c9f8a0eb-9d5b-4b5f-89d1-7a24a1bde2f0",
   "metadata": {},
   "outputs": [],
   "source": [
    "5 * 3"
   ]
  },
  {
   "cell_type": "markdown",
   "id": "ee876c8a-3201-45a8-96c1-c27d1343a189",
   "metadata": {},
   "source": [
    "Division"
   ]
  },
  {
   "cell_type": "code",
   "execution_count": null,
   "id": "04ff5c70-a891-488f-8f61-729f73f4fbbd",
   "metadata": {},
   "outputs": [],
   "source": [
    "5 / 3"
   ]
  },
  {
   "cell_type": "markdown",
   "id": "bc46696f-dba5-4f8d-8d6d-e278155ccf0e",
   "metadata": {},
   "source": [
    "Floor division (only returns the whole-number part of the result)"
   ]
  },
  {
   "cell_type": "code",
   "execution_count": null,
   "id": "7d947bbb-0485-49b5-8686-9365381e82e8",
   "metadata": {},
   "outputs": [],
   "source": [
    "5 // 3"
   ]
  },
  {
   "cell_type": "markdown",
   "id": "18a2dd72-21f6-49c6-96bd-081dcc967cc4",
   "metadata": {},
   "source": [
    "Exponentiation"
   ]
  },
  {
   "cell_type": "code",
   "execution_count": null,
   "id": "a8f43105-90dd-43ec-a48f-2de46e07f5a3",
   "metadata": {},
   "outputs": [],
   "source": [
    "5 ** 3"
   ]
  },
  {
   "cell_type": "markdown",
   "id": "efa179af-4470-41e6-97bb-f2b292b119bf",
   "metadata": {},
   "source": [
    "Modulus (returns the \"remainder\" when the first number is divided by the second)"
   ]
  },
  {
   "cell_type": "code",
   "execution_count": null,
   "id": "65505ecd-11ea-457c-8571-b940871c7ddd",
   "metadata": {},
   "outputs": [],
   "source": [
    "5 % 3"
   ]
  },
  {
   "cell_type": "markdown",
   "id": "275e8c13-3bb8-4bd5-b01a-1e78b1ed21c2",
   "metadata": {},
   "source": [
    "The modulus operator is more useful than it seems. For example, you can use it to test if a number is even or to perform divisibility tests."
   ]
  },
  {
   "cell_type": "code",
   "execution_count": null,
   "id": "11b4ba39-b2ca-434d-852b-76e800a4573c",
   "metadata": {},
   "outputs": [],
   "source": [
    "is_even = 44 % 2 == 0\n",
    "is_even"
   ]
  },
  {
   "cell_type": "code",
   "execution_count": null,
   "id": "826b582a-5f70-4112-9c88-a2e09b9365f1",
   "metadata": {},
   "outputs": [],
   "source": [
    "is_divisible_by_9 = 678123 % 9 == 0\n",
    "is_divisible_by_9"
   ]
  },
  {
   "cell_type": "markdown",
   "id": "9ce2a107-ad4e-4d75-9e81-3b5d02a20fd0",
   "metadata": {},
   "source": [
    "Python will follow the appropriate order of operations. You can use parentheses to control the order in which operations are performed."
   ]
  },
  {
   "cell_type": "code",
   "execution_count": null,
   "id": "94ff3f6e-5032-472b-a7fd-20af744e7af0",
   "metadata": {},
   "outputs": [],
   "source": [
    "5 - 3 * 2"
   ]
  },
  {
   "cell_type": "code",
   "execution_count": null,
   "id": "b49734ed-dff8-4688-be7b-f74534cd186a",
   "metadata": {},
   "outputs": [],
   "source": [
    "(5 - 3) * 2"
   ]
  },
  {
   "cell_type": "markdown",
   "id": "96d97a95-6efa-403b-a2b1-21d2824e8e59",
   "metadata": {},
   "source": [
    "## The `math` library\n",
    "\n",
    "Operators for adding, subtracting, multiplying, dividing (regular or \"floor\" or modulus) comes \"out of the box\". Additional mathematical functions can be imported from the [`math` library](https://docs.python.org/3/library/math.html). Below are just a few examples."
   ]
  },
  {
   "cell_type": "markdown",
   "id": "c47a39e7-c85f-48cb-a69e-92a35e3970ad",
   "metadata": {},
   "source": [
    "To get access to these additional functions, you must first import the math module."
   ]
  },
  {
   "cell_type": "code",
   "execution_count": null,
   "id": "5b67019c-975e-45ed-ad39-9119d594a0bc",
   "metadata": {},
   "outputs": [],
   "source": [
    "import math"
   ]
  },
  {
   "cell_type": "markdown",
   "id": "207059cf-fc70-478d-b511-9caa4b5bc05e",
   "metadata": {},
   "source": [
    "Then you can access methods like so. Here's how to calculate a square root."
   ]
  },
  {
   "cell_type": "code",
   "execution_count": null,
   "id": "2acbbd11-e0e7-46fa-a566-a5d6e06c9fce",
   "metadata": {},
   "outputs": [],
   "source": [
    "math.sqrt(4)"
   ]
  },
  {
   "cell_type": "markdown",
   "id": "7429e8f8-54d9-4786-a61f-569823a62a8d",
   "metadata": {},
   "source": [
    "And here's how to find the greatest common denominator of two (or more!) integers."
   ]
  },
  {
   "cell_type": "code",
   "execution_count": null,
   "id": "28c68f36-1c27-4087-b57c-0b00bf8cd76a",
   "metadata": {},
   "outputs": [],
   "source": [
    "math.gcd(36, 18, 12)"
   ]
  },
  {
   "cell_type": "markdown",
   "id": "dcd1154b-72af-4ae6-bbc7-6ba0f59108a2",
   "metadata": {},
   "source": [
    "And -- one more -- here's the constant for pi (π):"
   ]
  },
  {
   "cell_type": "code",
   "execution_count": null,
   "id": "8801f19d-f5a5-47e0-b625-c246e09b9600",
   "metadata": {},
   "outputs": [],
   "source": [
    "math.pi"
   ]
  },
  {
   "cell_type": "markdown",
   "id": "38fd48d9-973e-4cb3-9cfa-4b7997fc7070",
   "metadata": {},
   "source": [
    "## More Comparisons"
   ]
  },
  {
   "cell_type": "markdown",
   "id": "ff930383-71aa-4ded-893f-49b6d0d51949",
   "metadata": {},
   "source": [
    "We've already seen the **equality** (`==`) and **inequality** (`!=`) operators, which of course work with numbers. "
   ]
  },
  {
   "cell_type": "code",
   "execution_count": null,
   "id": "bfc427bf-3b81-4be9-ab83-969eb5e13c5c",
   "metadata": {},
   "outputs": [],
   "source": [
    "5 == 5"
   ]
  },
  {
   "cell_type": "code",
   "execution_count": null,
   "id": "d12d665f-4525-48f1-ade9-00683f077b98",
   "metadata": {},
   "outputs": [],
   "source": [
    "5 != 3"
   ]
  },
  {
   "cell_type": "markdown",
   "id": "3ee7bf7d-4f2b-4c2f-9e15-9d2ee327dace",
   "metadata": {},
   "source": [
    "But what do you think happens when you compare floats and integers?"
   ]
  },
  {
   "cell_type": "code",
   "execution_count": null,
   "id": "2036b2c6-d4d8-4226-a303-f59d1cf2cd93",
   "metadata": {},
   "outputs": [],
   "source": [
    "5 == 5.0"
   ]
  },
  {
   "cell_type": "markdown",
   "id": "bc20ca0f-f2c8-4836-8e05-fedef33e8391",
   "metadata": {},
   "source": [
    "You can also do greater-than and less-than comparisons:"
   ]
  },
  {
   "cell_type": "code",
   "execution_count": null,
   "id": "b48019d8-97fc-4d11-b8a5-b9f53b4877e3",
   "metadata": {},
   "outputs": [],
   "source": [
    "5 > 3"
   ]
  },
  {
   "cell_type": "code",
   "execution_count": null,
   "id": "305d6966-86ec-40ba-a84d-1b38d8c2acfc",
   "metadata": {},
   "outputs": [],
   "source": [
    "3 < 5"
   ]
  },
  {
   "cell_type": "markdown",
   "id": "56c073a2-cd52-446d-935d-a5dc1ad056b2",
   "metadata": {},
   "source": [
    "Or greater-than-or-equal and less-than-or-equal comparisons:"
   ]
  },
  {
   "cell_type": "code",
   "execution_count": null,
   "id": "0dd2dc17-8fe4-43a8-b7c9-5a8f1db040c1",
   "metadata": {},
   "outputs": [],
   "source": [
    "5 >= 3"
   ]
  },
  {
   "cell_type": "code",
   "execution_count": null,
   "id": "4e1ab716-e7f6-433f-bcf9-3941c04d686b",
   "metadata": {},
   "outputs": [],
   "source": [
    "5 >= 5"
   ]
  },
  {
   "cell_type": "code",
   "execution_count": null,
   "id": "e6d34a9e-68ee-4db2-8261-3bd3490feae8",
   "metadata": {},
   "outputs": [],
   "source": [
    "3 <= 5"
   ]
  },
  {
   "cell_type": "code",
   "execution_count": null,
   "id": "c3f8691f-6cee-4370-8b7c-b0dd526a1362",
   "metadata": {},
   "outputs": [],
   "source": [
    "3 <= 3"
   ]
  }
 ],
 "metadata": {
  "kernelspec": {
   "display_name": "Python 3 (ipykernel)",
   "language": "python",
   "name": "python3"
  },
  "language_info": {
   "codemirror_mode": {
    "name": "ipython",
    "version": 3
   },
   "file_extension": ".py",
   "mimetype": "text/x-python",
   "name": "python",
   "nbconvert_exporter": "python",
   "pygments_lexer": "ipython3",
   "version": "3.12.3"
  }
 },
 "nbformat": 4,
 "nbformat_minor": 5
}
