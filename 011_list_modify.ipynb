{
 "cells": [
  {
   "cell_type": "markdown",
   "id": "f6bffcaf-9389-414d-8864-b31b73246fc1",
   "metadata": {},
   "source": [
    "# Modifying Lists\n",
    "\n",
    "You know how to create and slice a list. Let's learn how to change list elements, grow lists, and shrink them."
   ]
  },
  {
   "cell_type": "markdown",
   "id": "f6aaaa02-55e6-4d5c-b82c-7f9ef93bf7f1",
   "metadata": {},
   "source": [
    "## Updating List Elements\n",
    "\n",
    "You can reassign elements in a list by using an index and the assignment operator (`=`). For example, in the code below, we're changing the value of the third item (index = 2) in the list from `\"JavaScript\"` to `\"Python\"`."
   ]
  },
  {
   "cell_type": "code",
   "execution_count": null,
   "id": "5b70a64c-f67d-494b-8da7-66f546223d31",
   "metadata": {},
   "outputs": [],
   "source": [
    "programming_languages = ['C', 'C++', 'JavaScript', 'Perl', 'Rust']\n",
    "programming_languages[2] = 'Python'\n",
    "programming_languages"
   ]
  },
  {
   "cell_type": "markdown",
   "id": "4ac4bb19-5afd-420c-a74e-737f155900f9",
   "metadata": {},
   "source": [
    "You can modify more than one list item at the same time, for example:"
   ]
  },
  {
   "cell_type": "code",
   "execution_count": null,
   "id": "e3be14a4-6cd6-478c-beae-b81b3750a92e",
   "metadata": {},
   "outputs": [],
   "source": [
    "programming_languages[0:2] = ['Java', 'Ruby']\n",
    "programming_languages"
   ]
  },
  {
   "cell_type": "markdown",
   "id": "1667296b-9a6b-4e12-8d2d-eba313bc91d1",
   "metadata": {},
   "source": [
    "In the example, above, you asked the interpreter to reassign the value of the list from index 0 (inclusive) to index 2 (exclusive) using the values of the list on the right side of the assignment operator."
   ]
  },
  {
   "cell_type": "markdown",
   "id": "a8068437-a9e5-4680-b0bd-9d663da743e6",
   "metadata": {},
   "source": [
    "You could even use the strategy, above, to squeeze in extra items by providing a list on the right of the assignment operator that's longer than the slice you specify on the left side."
   ]
  },
  {
   "cell_type": "code",
   "execution_count": null,
   "id": "6cc1a759-d157-4c89-b919-5ac97ecb3ccd",
   "metadata": {},
   "outputs": [],
   "source": [
    "programming_languages[3:4] = ['Lisp', 'Scheme', 'Smalltalk']\n",
    "programming_languages"
   ]
  },
  {
   "cell_type": "markdown",
   "id": "5413068e-914e-4723-a26d-d985ae1b6100",
   "metadata": {},
   "source": [
    "## Adding to a List\n",
    "\n",
    "Lists can grow! In fact, you just saw one way to make a list grow (the \"squeeze\" example, above). More often, you'll see lists *extended*. \n",
    "\n",
    "For example, the `append` method will add an item to a list."
   ]
  },
  {
   "cell_type": "code",
   "execution_count": null,
   "id": "7aacd4a8-907c-4e6c-a8ad-f5595d633341",
   "metadata": {},
   "outputs": [],
   "source": [
    "months = ['February']\n",
    "months.append('March')\n",
    "months"
   ]
  },
  {
   "cell_type": "markdown",
   "id": "01c55f98-b483-4843-9446-f6c231f0022d",
   "metadata": {},
   "source": [
    "`append` is a **list method** --  a function that belongs to every list by virtue of being a list. *Methods* will make more sense once we talk about classes. For now, it's enough to know that you can use a list method like so: `<list>.<method_name>(<args>)`."
   ]
  },
  {
   "cell_type": "markdown",
   "id": "5809dd9c-a60f-4d51-89ea-28790f8d56f1",
   "metadata": {},
   "source": [
    "If you want to add more than one item to a list at a time, you can \"add\" two lists together, like so:"
   ]
  },
  {
   "cell_type": "code",
   "execution_count": null,
   "id": "b9361209-8530-4980-9aa3-c72992814ad1",
   "metadata": {},
   "outputs": [],
   "source": [
    "months = months + ['April', 'May', 'June']\n",
    "months"
   ]
  },
  {
   "cell_type": "markdown",
   "id": "6bd91630-cd04-4fc5-a60c-f9c4daadf174",
   "metadata": {},
   "source": [
    "Or you can use the `extend` method:"
   ]
  },
  {
   "cell_type": "code",
   "execution_count": null,
   "id": "98f34d43-2f3c-4e74-9b3e-357aec9ccd96",
   "metadata": {},
   "outputs": [],
   "source": [
    "months.extend(['July', 'August'])\n",
    "months"
   ]
  },
  {
   "cell_type": "markdown",
   "id": "ccf58542-6e60-4ea0-9fac-b1dff79c8e9f",
   "metadata": {},
   "source": [
    "Or you can use list indices to tack items on to the end of a list:"
   ]
  },
  {
   "cell_type": "code",
   "execution_count": null,
   "id": "5402f9a6-ed18-4aae-a503-2ec9d412c83f",
   "metadata": {},
   "outputs": [],
   "source": [
    "months[7:] = ['September', 'October']\n",
    "months"
   ]
  },
  {
   "cell_type": "markdown",
   "id": "77b49608-efc0-484c-8b3c-ff9d136880ff",
   "metadata": {},
   "source": [
    "That last one is a little tricky. It's like the \"squeeze\" example, above, except now we're \"replacing\" indices that don't yet exist(!!):\n",
    "  - The slice starts at the 7th index, which doesn't exist when the code runs\n",
    "  - Because there's no stop index, we're telling Python to replace up to the end of the list, even though in this case we're already past the list's last current element."
   ]
  },
  {
   "cell_type": "markdown",
   "id": "9c505a9a-c270-4d73-b167-82a4ddbb3be3",
   "metadata": {},
   "source": [
    "In this example, you and I can count the length of the list and \"hardcode\" `7` as the starting index. But imagine you're writing a function that can take as input a list of any length. How would you write code that could programmatically extend a list? Remember, Python, too, can count the number of items in a list..."
   ]
  },
  {
   "cell_type": "code",
   "execution_count": null,
   "id": "96d8fc2d-48ff-409b-a634-1cdf6c56a367",
   "metadata": {},
   "outputs": [],
   "source": [
    "months[len(months):] = ['November', 'December']\n",
    "months"
   ]
  },
  {
   "cell_type": "markdown",
   "id": "44b992eb-d9b7-4ed5-9a75-f497009724ec",
   "metadata": {},
   "source": [
    "`len(months)` will always give me the index that's just beyond the end of the list without me needing to know how long the list will be."
   ]
  },
  {
   "cell_type": "markdown",
   "id": "26b589bc-9030-4849-8809-d411f4aad63f",
   "metadata": {},
   "source": [
    "We can even use indices to add elements to the beginning of the list:"
   ]
  },
  {
   "cell_type": "code",
   "execution_count": null,
   "id": "6c384187-94ac-4fb4-9868-a5b6966c3875",
   "metadata": {},
   "outputs": [],
   "source": [
    "months[:0] = ['January']\n",
    "months"
   ]
  },
  {
   "cell_type": "markdown",
   "id": "791d30a1-5742-4692-952b-dd3741778dd6",
   "metadata": {},
   "source": [
    "We've seen that we can squeeze in an extra item mid-list through reassignment. But we can also insert an element by assigning a zero-length slice at the point we want to insert. For example, to add a month between September and October, we could do the following:"
   ]
  },
  {
   "cell_type": "code",
   "execution_count": null,
   "id": "c90e3968-a973-4e30-841a-7a23ac50d227",
   "metadata": {},
   "outputs": [],
   "source": [
    "months[9:9] = ['Kruckember']\n",
    "months"
   ]
  },
  {
   "cell_type": "markdown",
   "id": "43674036-50d6-4604-ae62-7140bc6e5e17",
   "metadata": {},
   "source": [
    "Or you can use the `insert` method. It takes two arguments:\n",
    "  - the index at which you want to insert the new element\n",
    "  - the new element to insert"
   ]
  },
  {
   "cell_type": "code",
   "execution_count": null,
   "id": "812b768b-0252-498c-b2a1-5141321f6060",
   "metadata": {},
   "outputs": [],
   "source": [
    "months.insert(2, 'Kruckuary')\n",
    "months"
   ]
  },
  {
   "cell_type": "markdown",
   "id": "478da46c-c6b8-4fef-bde7-d65990bd390b",
   "metadata": {},
   "source": [
    "## Removing Elements from a List\n",
    "\n",
    "Since you can add elements to a list, it's unsurprising that you can also remove them."
   ]
  },
  {
   "cell_type": "markdown",
   "id": "63195a8c-f0c9-49e1-aa32-806250da40ab",
   "metadata": {},
   "source": [
    "You can remove items by replacing a slice with an empty list, like this:"
   ]
  },
  {
   "cell_type": "code",
   "execution_count": null,
   "id": "ec685c57-d747-4d11-8a6b-7ca320262b2d",
   "metadata": {},
   "outputs": [],
   "source": [
    "pokemon = ['Pikachu', 'Snorlax', 'Charizard', 'Squirtle', 'Blastoise', 'Diglett', 'Jigglypuff', 'Magikarp', 'Psyduck']\n",
    "pokemon[4:6] = []\n",
    "pokemon"
   ]
  },
  {
   "cell_type": "markdown",
   "id": "216aa16b-a17f-4297-82f9-c153f0f64281",
   "metadata": {},
   "source": [
    "Bye bye, Blastoise and Diglett. That'll work, but it's more common to `del`ete one or more items from the list:"
   ]
  },
  {
   "cell_type": "code",
   "execution_count": null,
   "id": "1f911764-033d-4f85-93ec-25a0eb69f8fb",
   "metadata": {},
   "outputs": [],
   "source": [
    "del pokemon[0] # auf Weidersehen, Pikachu\n",
    "pokemon"
   ]
  },
  {
   "cell_type": "code",
   "execution_count": null,
   "id": "85ecff22-a468-44e7-a64f-5dcd5c8b6cae",
   "metadata": {},
   "outputs": [],
   "source": [
    "del pokemon[1:3] # Nice knowin' ya, Charizard and Squirtle\n",
    "pokemon"
   ]
  },
  {
   "cell_type": "markdown",
   "id": "44cd272b-e284-4381-8809-550fa76e5b1f",
   "metadata": {},
   "source": [
    "You can also `remove` a specific value from a list without knowing where it is in the list:"
   ]
  },
  {
   "cell_type": "code",
   "execution_count": null,
   "id": "15e1330c-2493-442e-93e3-a452100fa2cd",
   "metadata": {},
   "outputs": [],
   "source": [
    "pokemon.remove('Psyduck')\n",
    "pokemon"
   ]
  },
  {
   "cell_type": "markdown",
   "id": "65b07511-45c8-4319-8e4b-7d8507a7db33",
   "metadata": {},
   "source": [
    "But `remove` will only remove the first instance of the value. To show you, let me first add a second Magikarp..."
   ]
  },
  {
   "cell_type": "code",
   "execution_count": null,
   "id": "ef54ac35-701b-431a-abf0-8dff8dbbd719",
   "metadata": {},
   "outputs": [],
   "source": [
    "pokemon.insert(1, 'Magikarp')\n",
    "pokemon"
   ]
  },
  {
   "cell_type": "markdown",
   "id": "173fe72e-6897-4a42-ad0c-77c6915ef665",
   "metadata": {},
   "source": [
    "Now if I try to `remove` Magikarp, only the first will disappear..."
   ]
  },
  {
   "cell_type": "code",
   "execution_count": null,
   "id": "93547e25-6255-4e94-969e-69551787fb7e",
   "metadata": {},
   "outputs": [],
   "source": [
    "pokemon.remove('Magikarp')\n",
    "pokemon"
   ]
  },
  {
   "cell_type": "markdown",
   "id": "fe581676-bf8e-4a01-914e-d3b020b17539",
   "metadata": {},
   "source": [
    "I can keep removing `Magikarp` to get rid of them..."
   ]
  },
  {
   "cell_type": "code",
   "execution_count": null,
   "id": "b30c67bf-66c3-442e-ad0f-e1c97f51b71f",
   "metadata": {},
   "outputs": [],
   "source": [
    "pokemon.remove('Magikarp')\n",
    "pokemon"
   ]
  },
  {
   "cell_type": "markdown",
   "id": "bbcd1e54-84e5-4197-800b-c7f2197c6b9f",
   "metadata": {},
   "source": [
    "But I have to be careful not to remove an item that is not (or is no longer) in the list."
   ]
  },
  {
   "cell_type": "code",
   "execution_count": null,
   "id": "69a9b2ed-df45-4db5-bdc6-dd0da623a168",
   "metadata": {},
   "outputs": [],
   "source": [
    "pokemon.remove('Magikarp')"
   ]
  },
  {
   "cell_type": "markdown",
   "id": "0ab3248c-a842-4f1d-aa95-72afb349cd40",
   "metadata": {},
   "source": [
    "Whoops. One way to guard against such an error is to first test if the item is in the list and only remove it if it is."
   ]
  },
  {
   "cell_type": "code",
   "execution_count": null,
   "id": "0bb96062-65b4-4ed3-973f-1b274c751eb3",
   "metadata": {},
   "outputs": [],
   "source": [
    "if 'Jigglypuff' in pokemon:\n",
    "    pokemon.remove('Jigglypuff')\n",
    "\n",
    "pokemon"
   ]
  },
  {
   "cell_type": "markdown",
   "id": "25b8f76c-8ed7-4bb5-ac5f-e31eda9440e3",
   "metadata": {},
   "source": [
    "With that guard in place, I could safely run the same code again (even though you and I know that only Snorlax remains):"
   ]
  },
  {
   "cell_type": "code",
   "execution_count": null,
   "id": "4484216e-621c-4e8a-88cb-1598eaae82d7",
   "metadata": {},
   "outputs": [],
   "source": [
    "if 'Jigglypuff' in pokemon:\n",
    "    pokemon.remove('Jigglypuff')\n",
    "\n",
    "pokemon"
   ]
  },
  {
   "cell_type": "markdown",
   "id": "03ede788-7eb9-4c0c-ad16-2647cdaedb13",
   "metadata": {},
   "source": [
    "## Exercise: Build Up a List\n",
    "\n",
    "Time for you to try. Below I'll create an empty list called `mascots`. Your job is to build it up over several steps. Use different strategies:\n",
    "  - `append`\n",
    "  - `extend`\n",
    "  - indices:\n",
    "    - to add to the end of the list\n",
    "    - to add to the beginning of the list\n",
    "    - to add to the middle of the list\n",
    "\n",
    "By the time you're finished, your list should have at least 5 elements."
   ]
  },
  {
   "cell_type": "code",
   "execution_count": null,
   "id": "219fcc34-7eb4-4279-a24c-569b4036b982",
   "metadata": {},
   "outputs": [],
   "source": [
    "mascots = []"
   ]
  },
  {
   "cell_type": "markdown",
   "id": "222cd545-fce1-4ba2-846e-a030cb896772",
   "metadata": {},
   "source": [
    "Now that you've built up a list, use the cell, below, to modify it:\n",
    "  - reassign at least one value\n",
    "  - `del`ete a single item\n",
    "  - `del`ete a slice\n",
    "  - `remove` a value"
   ]
  },
  {
   "cell_type": "code",
   "execution_count": null,
   "id": "84da54ff-2736-4ffb-80f1-6ef57130d783",
   "metadata": {},
   "outputs": [],
   "source": []
  },
  {
   "cell_type": "markdown",
   "id": "0549fa32-5ad4-4670-918b-dd8e2af2a46e",
   "metadata": {},
   "source": [
    "## Exercise: `add_or_remove` Function\n",
    "\n",
    "Let's combine what we've just learned with what we already know about functions. Write a function called `add_or_remove`. It should take two arguments, a list and a value. If the value is in the list, remove it. If the value is not in the list, add it to the beginning of the list. Return the updated list from the function. Be sure that your function won't throw an error. "
   ]
  },
  {
   "cell_type": "code",
   "execution_count": null,
   "id": "9c3df0ee-c9b1-4103-97e2-4b7c35833c67",
   "metadata": {},
   "outputs": [],
   "source": []
  },
  {
   "cell_type": "code",
   "execution_count": null,
   "id": "10474d33-f7f3-456a-acd9-e2969b84c7ac",
   "metadata": {},
   "outputs": [],
   "source": [
    "assert(add_or_remove([], 'vanilla') == ['vanilla'])"
   ]
  },
  {
   "cell_type": "code",
   "execution_count": null,
   "id": "86e36a26-197d-407e-bd62-20c796828f41",
   "metadata": {},
   "outputs": [],
   "source": [
    "assert(add_or_remove(['vanilla', 'chocolate', 'mint chip'], 'chocolate') == ['vanilla', 'mint chip'])"
   ]
  },
  {
   "cell_type": "code",
   "execution_count": null,
   "id": "9fb81c33-d0d0-47e1-a50f-fbfc90af52bf",
   "metadata": {},
   "outputs": [],
   "source": [
    "assert(add_or_remove(['vanilla', 'chocolate'], 'caramel') == ['caramel', 'vanilla', 'chocolate'])"
   ]
  }
 ],
 "metadata": {
  "kernelspec": {
   "display_name": "Python 3 (ipykernel)",
   "language": "python",
   "name": "python3"
  },
  "language_info": {
   "codemirror_mode": {
    "name": "ipython",
    "version": 3
   },
   "file_extension": ".py",
   "mimetype": "text/x-python",
   "name": "python",
   "nbconvert_exporter": "python",
   "pygments_lexer": "ipython3",
   "version": "3.12.3"
  }
 },
 "nbformat": 4,
 "nbformat_minor": 5
}
