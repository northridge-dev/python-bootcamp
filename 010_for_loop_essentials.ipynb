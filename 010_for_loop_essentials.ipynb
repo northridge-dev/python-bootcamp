{
 "cells": [
  {
   "cell_type": "markdown",
   "id": "f55a29ee-c805-4079-89c1-0418ca2c8f27",
   "metadata": {},
   "source": [
    "# `for` Loop Essentials\n",
    "\n",
    "Python has a second type of loop, a **`for` loop**. It's more common, arguably easier to use correctly, and especially helpful if you need to perform some operations for every element in a list (or, similarly, for every character in a string). You've already seen an example. This look familiar?"
   ]
  },
  {
   "cell_type": "code",
   "execution_count": null,
   "id": "d65e406a-3ccd-4eb1-a811-f63bdabb22fb",
   "metadata": {},
   "outputs": [],
   "source": [
    "studious_saint = ['st.', 'thomas', 'aquinas']\n",
    "capitalized = ''\n",
    "\n",
    "for name in studious_saint:\n",
    "    capitalized += name[:1].upper() + name[1:] + ' '\n",
    "\n",
    "capitalized = capitalized.strip()\n",
    "capitalized"
   ]
  },
  {
   "cell_type": "markdown",
   "id": "38193f47-b74c-4f81-8f74-9fdfedcfe7d4",
   "metadata": {},
   "source": [
    "Another example might make the pattern clearer:"
   ]
  },
  {
   "cell_type": "code",
   "execution_count": null,
   "id": "9c256a8d-04a0-4771-a4a1-01589b7867fc",
   "metadata": {},
   "outputs": [],
   "source": [
    "for number in [5, 4, 3, 2, 1]:\n",
    "    print(number)\n",
    "\n",
    "print('Blast off!')"
   ]
  },
  {
   "cell_type": "markdown",
   "id": "ca382140-d8fa-4a30-bc36-f8f7dd9ef0c0",
   "metadata": {},
   "source": [
    "`for` and `while` loops both have a code block that's executed on each loop, but in place of the `while` loop's condition, a `for` loop has a list (or other [iterator]() -- we'll learn more about those later) that it works through. So the pattern is:\n",
    "\n",
    "```\n",
    "for <variable_name> in <list (or other iterator)>:\n",
    "  <code_block>\n",
    "```\n",
    "\n",
    "Within the code block, the `for`-loop variable points to the current list item. Thus, in the countdown example,\n",
    "  - the first time the loop executes, `number` points to `5`\n",
    "  - the second time the loop executes, `number` points to `4`\n",
    "  - ...\n",
    "  - the last time the loop executes, `number` points to `1`\n",
    "\n",
    "You can use any valid variable name when defining a `for` loop, but it's best to use a descriptive name. If your list contains names, `name` is a pretty good variable name. If your list contains numbers, maybe `number` is a good variable name (although maybe, depending on the context, you can come up with something more specific).\n",
    "\n",
    "The `for` loop ends once the list has been exhausted. So it's much harder (but not impossible!) to write an infinite `for` loop."
   ]
  },
  {
   "cell_type": "markdown",
   "id": "aff7218b-f2cb-4521-887d-9fb2e3483ba8",
   "metadata": {},
   "source": [
    "## Example: Looping through Characters in a String\n",
    "\n",
    "I said that you can use a `for` loop to work through the characters in a string. Here's an example that capitalizes every vowel:"
   ]
  },
  {
   "cell_type": "code",
   "execution_count": null,
   "id": "5973267d-ec18-41a0-b015-3064326ad2bc",
   "metadata": {},
   "outputs": [],
   "source": [
    "capitalized_vowels = ''\n",
    "\n",
    "for letter in 'the quick brown fox jumps the lazy dog':\n",
    "    if letter in ['a', 'e', 'i', 'o', 'u']:\n",
    "        capitalized_vowels += letter.upper()\n",
    "    else:\n",
    "        capitalized_vowels += letter\n",
    "\n",
    "capitalized_vowels"
   ]
  },
  {
   "cell_type": "markdown",
   "id": "9e944e7e-85ed-40a1-b0ea-7520bc97cb8d",
   "metadata": {},
   "source": [
    "You _could_ have turned the string into a list of characters, looped over it, and then joined a list of characters back into a string. But why bother when you can loop over the characters directly?"
   ]
  },
  {
   "cell_type": "markdown",
   "id": "9d89d211-8081-4cf5-ae58-67dc2352dcbc",
   "metadata": {},
   "source": [
    "## Exercise: Remove Spaces Using a `for` Loop\n",
    "\n",
    "Now you try. Using the example, above, as a model, try to write a `for` loop that will remove all the spaces between the words in `sentence`."
   ]
  },
  {
   "cell_type": "code",
   "execution_count": null,
   "id": "3cf86324-0d33-4ae5-9de4-0491e00ba8cc",
   "metadata": {},
   "outputs": [],
   "source": [
    "sentence = 'the quick brown fox jumps the lazy dog'\n",
    "without_spaces = ''\n",
    "\n",
    "# add your for loop here\n"
   ]
  },
  {
   "cell_type": "code",
   "execution_count": null,
   "id": "19463f0e-98d4-4631-baa4-c744e9d5750f",
   "metadata": {},
   "outputs": [],
   "source": [
    "assert(without_spaces == 'thequickbrownfoxjumpsthelazydog')"
   ]
  },
  {
   "cell_type": "markdown",
   "id": "143c68f5-5772-4546-ac1a-ae5e7074147e",
   "metadata": {},
   "source": [
    "## Exercise: Filter a List\n",
    "\n",
    "Let's try another. Imagine you have a list of numbers. Can you use a `for` loop to generate a new list that contains only those elements in the original list that are divisible by 3? \n",
    "\n",
    "**Hints** \n",
    " - to test if a number is divisible by 3, you could use the *modulolo* operator: `num % 3 == 0`\n",
    " - to add an element to a list, you can use the `append` method, for example `some_list.append(new_element_to_add)`"
   ]
  },
  {
   "cell_type": "code",
   "execution_count": null,
   "id": "1a914e2e-6034-425c-97c0-1c1e92bfbf4a",
   "metadata": {},
   "outputs": [],
   "source": [
    "numbers = [3, 4, 7, 9, 12, 13, 14, 21, 23, 24, 33]\n",
    "numbers_divisible_by_3 = []\n",
    "\n",
    "# add your for loop here"
   ]
  },
  {
   "cell_type": "code",
   "execution_count": null,
   "id": "2035cf8c-0afd-48cb-99bd-0a7629be6ba5",
   "metadata": {},
   "outputs": [],
   "source": [
    "assert(numbers_divisible_by_3 == [3, 9, 12, 21, 24, 33])"
   ]
  },
  {
   "cell_type": "markdown",
   "id": "3598c7ad-7eb6-42f1-8ed3-28e0d6fdabfe",
   "metadata": {},
   "source": [
    "## `range` and `for` Loops\n",
    "\n",
    "Sometimes you want to use a `for` loop to repeat some code a certain number of times. You'll often see people use `range` to do so."
   ]
  },
  {
   "cell_type": "markdown",
   "id": "f967642d-d1f0-4ba9-93a9-d6f7c49babf4",
   "metadata": {},
   "source": [
    "`range` is a function that returns something iterator-like. Here's an example:"
   ]
  },
  {
   "cell_type": "code",
   "execution_count": null,
   "id": "d56f242b-3a6d-4f3f-b8ed-1beb2cbaef0c",
   "metadata": {},
   "outputs": [],
   "source": [
    "for n in range(10):\n",
    "    print(n)"
   ]
  },
  {
   "cell_type": "markdown",
   "id": "c1c85468-d3c3-4923-a77c-58f88e894775",
   "metadata": {},
   "source": [
    "The details aren't super important at the moment. It'd be good enough to think that `range(10)` generated a list starting at `0` and going up to (but not including) `10`. Starting at `0` is a little unintuitive (and sometimes annoying), but it does give you a list that's exactly `10` items long.\n",
    "\n",
    "If you wanted to start at a different number, you could:"
   ]
  },
  {
   "cell_type": "code",
   "execution_count": null,
   "id": "661920e2-ffd5-4b38-a994-337a57a58d52",
   "metadata": {},
   "outputs": [],
   "source": [
    "one_to_twenty = []\n",
    "\n",
    "for i in range(1, 21):\n",
    "    one_to_twenty.append(i)\n",
    "\n",
    "one_to_twenty"
   ]
  },
  {
   "cell_type": "markdown",
   "id": "2aaf2992-7688-4886-b94f-d556b87ed6a9",
   "metadata": {},
   "source": [
    "That time, we passed two arguments to `range`. The first argument determines the first number in the range (inclusive), the second argument determines the last number in the range (exclusive. You could have gotten the same thing by passing the the range object to the `list` function (which, as the name suggests, turns iterators and iterator-like things into lists):"
   ]
  },
  {
   "cell_type": "code",
   "execution_count": null,
   "id": "c440e6f4-89ca-4774-a4f4-a6188a4dc7cd",
   "metadata": {},
   "outputs": [],
   "source": [
    "list(range(1, 21))"
   ]
  },
  {
   "cell_type": "markdown",
   "id": "10950da2-8299-4583-8d95-0355dd44ec9e",
   "metadata": {},
   "source": [
    "## Exercise: All the Multiples of Three Less Than 1000\n",
    "\n",
    "Now that you know a little more about `range`, let's use it to solve a problem. It's a variation on a problem you solved, above. How can you use a `for` loop to construct a list of all the multiples of three that are less than 1000? Above, we filtered a list so that the result contained only numbers divisible by three. We could use the same strategy *if only we had a list from 1 to 1000*. But no one would want to type out a list that long. Luckily, with `range`, you don't have to . . . "
   ]
  },
  {
   "cell_type": "code",
   "execution_count": null,
   "id": "10dc3cf7-5ba3-4aab-814c-8a6719e9969a",
   "metadata": {},
   "outputs": [],
   "source": [
    "multiples_of_three = []\n",
    "\n",
    "# add your for loop here"
   ]
  },
  {
   "cell_type": "code",
   "execution_count": null,
   "id": "df57ec89-4397-4b3b-a911-121c2d35cc40",
   "metadata": {},
   "outputs": [],
   "source": [
    "assert(len(multiples_of_three) == 334) # tests that you have the right number of multiples\n",
    "assert(all([el % 3 == 0 for el in multiples_of_three])) # tests that all the elements in your list are divisible by three"
   ]
  }
 ],
 "metadata": {
  "kernelspec": {
   "display_name": "Python 3 (ipykernel)",
   "language": "python",
   "name": "python3"
  },
  "language_info": {
   "codemirror_mode": {
    "name": "ipython",
    "version": 3
   },
   "file_extension": ".py",
   "mimetype": "text/x-python",
   "name": "python",
   "nbconvert_exporter": "python",
   "pygments_lexer": "ipython3",
   "version": "3.12.3"
  }
 },
 "nbformat": 4,
 "nbformat_minor": 5
}
