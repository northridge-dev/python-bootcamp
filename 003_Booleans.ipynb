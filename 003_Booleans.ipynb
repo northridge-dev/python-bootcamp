{
 "cells": [
  {
   "cell_type": "markdown",
   "id": "0ed980f0-a046-4905-b0b1-1bd0eb6b172c",
   "metadata": {},
   "source": [
    "# Booleans\n",
    "\n",
    "Like all (or almost all) programming languages, Python has a data type for representing **Boolean** values. There are only two possible Boolean values:"
   ]
  },
  {
   "cell_type": "code",
   "execution_count": null,
   "id": "e4282e15-10e8-4dd6-8a91-598e4a5dd140",
   "metadata": {},
   "outputs": [],
   "source": [
    "True"
   ]
  },
  {
   "cell_type": "code",
   "execution_count": null,
   "id": "4294e725-e863-4374-bb1e-2831b5fa37df",
   "metadata": {},
   "outputs": [],
   "source": [
    "False"
   ]
  },
  {
   "cell_type": "markdown",
   "id": "fcd461ee-e548-480c-9390-d428e732fe8b",
   "metadata": {},
   "source": [
    "--> Notice that, in Python `True` and `False` must be capitalized."
   ]
  },
  {
   "cell_type": "markdown",
   "id": "255c5bad-e7f8-4076-b46d-d051281ce4c2",
   "metadata": {},
   "source": [
    "You'll use Boolean values for all sorts of things, perhaps most importantly for controlling the flow of your programs. But we haven't (yet) learned about flow control, so for now, let's keep it simple."
   ]
  },
  {
   "cell_type": "markdown",
   "id": "ed2abfb1-3566-4e55-8cbd-3b4150df3610",
   "metadata": {},
   "source": [
    "## Boolean Results When Testing Equality\n",
    "\n",
    "Often times, you'll want to ask true-false questions. For example, here's how we can test if two strings are equal to each other:"
   ]
  },
  {
   "cell_type": "code",
   "execution_count": null,
   "id": "ea59e741-7930-4657-83c3-a72c71e06328",
   "metadata": {},
   "outputs": [],
   "source": [
    "'Plato' == 'Plato'"
   ]
  },
  {
   "cell_type": "code",
   "execution_count": null,
   "id": "bbec3c0f-93af-4aa2-9419-069e33ca414e",
   "metadata": {},
   "outputs": [],
   "source": [
    "'Plato' == 'Aristotle'"
   ]
  },
  {
   "cell_type": "markdown",
   "id": "9834cc3e-08e2-482f-a8b8-7e43c2644864",
   "metadata": {},
   "source": [
    "The **equality operator** (`==`) can be used for other data types, too:"
   ]
  },
  {
   "cell_type": "code",
   "execution_count": null,
   "id": "488d1c41-04ca-48a7-968f-4158945bcae1",
   "metadata": {},
   "outputs": [],
   "source": [
    "5 == 5"
   ]
  },
  {
   "cell_type": "code",
   "execution_count": null,
   "id": "b5142ac5-8336-4f6f-a6be-bd751b902eed",
   "metadata": {},
   "outputs": [],
   "source": [
    "5 == 3"
   ]
  },
  {
   "cell_type": "code",
   "execution_count": null,
   "id": "5ca5ab09-f48a-41dd-b06d-eaf609195524",
   "metadata": {},
   "outputs": [],
   "source": [
    "True == True"
   ]
  },
  {
   "cell_type": "code",
   "execution_count": null,
   "id": "aacb5072-ab38-46ef-9baa-00ee59bdc734",
   "metadata": {},
   "outputs": [],
   "source": [
    "True == False"
   ]
  },
  {
   "cell_type": "markdown",
   "id": "ae83c4a1-e8a1-46af-b9d4-fc6d69c948a4",
   "metadata": {},
   "source": [
    "You can also ask if two values are *unequal* to each other with the **inequality operator**: `!=`. If the equality operator returns `True` for a pair of values, you'd expect the inequality operator to return `False` for those same values. And vice versa: if the equality operator returns `False` for a pair, the inequality operator should return `True`."
   ]
  },
  {
   "cell_type": "code",
   "execution_count": null,
   "id": "18c776e6-49bc-4248-99b9-692c061726bc",
   "metadata": {},
   "outputs": [],
   "source": [
    "'Plato' != 'Plato'"
   ]
  },
  {
   "cell_type": "code",
   "execution_count": null,
   "id": "490ac4f9-edb5-46e6-9924-7e5779f9ac86",
   "metadata": {},
   "outputs": [],
   "source": [
    "'Plato' != 'Aristotle'"
   ]
  },
  {
   "cell_type": "markdown",
   "id": "762181fc-97e5-4a50-b4e5-7de293bd42ff",
   "metadata": {},
   "source": [
    "## Booleans Can Be Stored with Variables\n",
    "\n",
    "Just like any other value, you can store Booleans with named variables."
   ]
  },
  {
   "cell_type": "code",
   "execution_count": null,
   "id": "1193868e-75af-411e-b0a6-cf5d3c23b6c9",
   "metadata": {},
   "outputs": [],
   "source": [
    "first_number = 5\n",
    "second_number = 3\n",
    "is_equal_self = first_number == first_number\n",
    "is_equal_other = first_number == second_number\n",
    "\n",
    "is_equal_self, is_equal_other"
   ]
  },
  {
   "cell_type": "markdown",
   "id": "b81ea278-0832-4a65-af6c-b4f8a650ef0d",
   "metadata": {},
   "source": [
    "## Operations with Booleans\n",
    "\n",
    "Maybe you remember from logic class that you can perform a handful of operations on Boolean values. That's true in Python, too."
   ]
  },
  {
   "cell_type": "code",
   "execution_count": null,
   "id": "5143bf16-b21e-4123-8c61-1c2c73eae061",
   "metadata": {},
   "outputs": [],
   "source": [
    "True and True"
   ]
  },
  {
   "cell_type": "code",
   "execution_count": null,
   "id": "5de06b07-9f98-4748-9cd6-28e960cb01f3",
   "metadata": {},
   "outputs": [],
   "source": [
    "True and False"
   ]
  },
  {
   "cell_type": "code",
   "execution_count": null,
   "id": "36d0ec25-a2d2-43cd-9586-0df743894088",
   "metadata": {},
   "outputs": [],
   "source": [
    "True or False"
   ]
  },
  {
   "cell_type": "code",
   "execution_count": null,
   "id": "3209f014-c8f6-46a4-8035-3d7410caff7c",
   "metadata": {},
   "outputs": [],
   "source": [
    "False or True"
   ]
  },
  {
   "cell_type": "code",
   "execution_count": null,
   "id": "f739a2ad-d276-4898-997c-cd6e8f5ff402",
   "metadata": {},
   "outputs": [],
   "source": [
    "True or True"
   ]
  },
  {
   "cell_type": "code",
   "execution_count": null,
   "id": "73d4eaf4-33f5-4e93-a665-deb845907390",
   "metadata": {},
   "outputs": [],
   "source": [
    "False or False"
   ]
  },
  {
   "cell_type": "code",
   "execution_count": null,
   "id": "b604ab5c-5d44-473e-9c10-7ff961cbea48",
   "metadata": {},
   "outputs": [],
   "source": [
    "not True"
   ]
  },
  {
   "cell_type": "code",
   "execution_count": null,
   "id": "82d4bdfc-faaf-4478-9ef7-14ebd9fba467",
   "metadata": {},
   "outputs": [],
   "source": [
    "not False"
   ]
  },
  {
   "cell_type": "markdown",
   "id": "b480b9be-a610-4360-b7a1-ef40aa8f6180",
   "metadata": {},
   "source": [
    "If you're reminded of truth tables, you're on the right track. In fact, you could use Python to calculate truth tables! Below is a Python library that will generate truth tables for you:"
   ]
  },
  {
   "cell_type": "code",
   "execution_count": null,
   "id": "5ee0847b-3e92-414e-a851-5f8db18bd4de",
   "metadata": {},
   "outputs": [],
   "source": [
    "import ttg\n",
    "truth_table_OR_and_AND = ttg.Truths(['A', 'B'], ['A or B', 'A and B'], ints=False)\n",
    "print(truth_table_OR_and_AND)"
   ]
  },
  {
   "cell_type": "markdown",
   "id": "e5b59a46-e832-49eb-b2b0-f9e484fede99",
   "metadata": {},
   "source": [
    "These simple operations (`and`, `or`, and `not`) can be combined into more complex \"calculations.\""
   ]
  },
  {
   "cell_type": "code",
   "execution_count": null,
   "id": "f19053a5-629c-4577-8d6a-a33ff2c6e15d",
   "metadata": {},
   "outputs": [],
   "source": [
    "coding_is_hard = True\n",
    "coding_is_easy = not coding_is_hard\n",
    "is_consistent = coding_is_hard or coding_is_easy and not (coding_is_hard and coding_is_easy)\n",
    "\n",
    "is_consistent"
   ]
  },
  {
   "cell_type": "markdown",
   "id": "1ae7f01f-f5a8-4ad4-8203-0442f259a61d",
   "metadata": {},
   "source": [
    "You _could_ combine these simple logic operators to create *in software* all the **logic gates** that a CPU uses to perform its calculations. The \"calculation\" of `is_consistent`, above, is an example of an `XOR` -- exclusive OR -- gate. Unlike `OR`, `XOR` is `False` when A and B are both true. \n",
    "\n",
    "Below, I'll print a truth table for `XOR` and define a simple `xor` function. Don't sweat it if any of it doesn't make sense. I'm only including it in case you're curious. (And here's an [article](https://medium.com/@ramani.natarajan/from-truth-tables-to-logic-gates-with-python-4e001c420e68) if you want to read more.)"
   ]
  },
  {
   "cell_type": "code",
   "execution_count": null,
   "id": "67bb403e-b6c9-4688-b5f1-c489532333a9",
   "metadata": {},
   "outputs": [],
   "source": [
    "truth_table_XOR = ttg.Truths(['A', 'B'], ['(A or B) and not (A and B)'], ints=False)\n",
    "print(truth_table_XOR)"
   ]
  },
  {
   "cell_type": "code",
   "execution_count": null,
   "id": "8a54a974-bbb4-451b-b7ab-4e5481f10031",
   "metadata": {},
   "outputs": [],
   "source": [
    "def XOR(inputA, inputB):\n",
    "    return (inputA or inputB) and not (inputA and inputB)\n",
    "\n",
    "XOR(True, True)"
   ]
  },
  {
   "cell_type": "markdown",
   "id": "42c7a159-c72c-48b6-b221-d53cb22fab2e",
   "metadata": {},
   "source": [
    "`True` or `False`, you've learned enough about Booleans for today?\n",
    "`not False`!\n",
    "\n",
    "But feel free to alter any of the code, above, or create more cells to experiment, below."
   ]
  }
 ],
 "metadata": {
  "kernelspec": {
   "display_name": "Python 3 (ipykernel)",
   "language": "python",
   "name": "python3"
  },
  "language_info": {
   "codemirror_mode": {
    "name": "ipython",
    "version": 3
   },
   "file_extension": ".py",
   "mimetype": "text/x-python",
   "name": "python",
   "nbconvert_exporter": "python",
   "pygments_lexer": "ipython3",
   "version": "3.12.3"
  }
 },
 "nbformat": 4,
 "nbformat_minor": 5
}
