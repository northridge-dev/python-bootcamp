{
 "cells": [
  {
   "cell_type": "markdown",
   "id": "bd24077f-a924-47df-8876-76f291a59e9b",
   "metadata": {},
   "source": [
    "# Lists\n",
    "\n",
    "So far, we've been working with *primitive* data types: strings, integers, floats, Booleans. We're now going to start working with **collections**: built-in Python data types that can hold and organize multiple primitive values. First up: **lists**. "
   ]
  },
  {
   "cell_type": "markdown",
   "id": "68dedece-e6e7-47ae-8793-85ff58f43553",
   "metadata": {},
   "source": [
    "Lists are pretty straight forward. You can create a list by adding zero, one, or more values inside a pair of square brackets (`[]`)."
   ]
  },
  {
   "cell_type": "code",
   "execution_count": null,
   "id": "f411575e-2d10-4bad-a239-a9354e72bf87",
   "metadata": {},
   "outputs": [],
   "source": [
    "empty_list = []\n",
    "even_numbers = [0, 2, 4, 6, 8, 10]\n",
    "primary_colors = [\"red\", \"green\", \"blue\"]"
   ]
  },
  {
   "cell_type": "markdown",
   "id": "fec39178-c225-406d-b911-2cafad48b92d",
   "metadata": {},
   "source": [
    "## Length of Lists"
   ]
  },
  {
   "cell_type": "markdown",
   "id": "d48e78d3-ed5c-437e-b1af-eb00357a5dd7",
   "metadata": {},
   "source": [
    "Lists have a **length**. You can get the length of a list with the built-in `len` function, like so:"
   ]
  },
  {
   "cell_type": "code",
   "execution_count": null,
   "id": "11d5612f-fa08-46dd-b922-90f4d354668e",
   "metadata": {},
   "outputs": [],
   "source": [
    "len(empty_list)"
   ]
  },
  {
   "cell_type": "code",
   "execution_count": null,
   "id": "b9d755c0-64ba-4fce-8f96-b46bd51df40e",
   "metadata": {},
   "outputs": [],
   "source": [
    "len(even_numbers)"
   ]
  },
  {
   "cell_type": "code",
   "execution_count": null,
   "id": "7541a156-41cb-4e33-8682-fdc82cac9f05",
   "metadata": {},
   "outputs": [],
   "source": [
    "len(primary_colors)"
   ]
  },
  {
   "cell_type": "markdown",
   "id": "88149f38-1928-4048-a945-06af18a05f1c",
   "metadata": {},
   "source": [
    "## Indexing"
   ]
  },
  {
   "cell_type": "markdown",
   "id": "34d99201-6cb1-436c-a81a-7f3b61ba9385",
   "metadata": {},
   "source": [
    "Lists are **ordered**: unless you ask Python to shuffle them around, the elements keep their order. To look up an item in a list, you specify its position or, in Python-speak, its **index**."
   ]
  },
  {
   "cell_type": "markdown",
   "id": "7329eaf7-073b-434c-a9aa-20f39f11f15f",
   "metadata": {},
   "source": [
    "Here's how you'd ask for the first element in the list `primary_colors`:"
   ]
  },
  {
   "cell_type": "code",
   "execution_count": null,
   "id": "6fe1d239-6426-4cbb-b5d9-afab328e5f8e",
   "metadata": {},
   "outputs": [],
   "source": [
    "primary_colors[1]"
   ]
  },
  {
   "cell_type": "markdown",
   "id": "23672436-2ddf-494e-9335-41c7e2cd15d0",
   "metadata": {},
   "source": [
    "`green`?! Can that be right?\n",
    "\n",
    "In Python (and in many other programming languages), **index counting starts at zero**. So the first item in the list is at index 0, the second item in the list is at index 1, and so on. Here's a little proof:"
   ]
  },
  {
   "cell_type": "code",
   "execution_count": null,
   "id": "d87ec66d-0ae1-4e51-83da-98d9077b79af",
   "metadata": {},
   "outputs": [],
   "source": [
    "primary_colors[0]"
   ]
  },
  {
   "cell_type": "code",
   "execution_count": null,
   "id": "b1abde4d-bd3e-46dc-ab1b-aedac043f4bb",
   "metadata": {},
   "outputs": [],
   "source": [
    "primary_colors[1]"
   ]
  },
  {
   "cell_type": "code",
   "execution_count": null,
   "id": "48656338-0121-4aa2-8abd-a07fa0aadb7f",
   "metadata": {},
   "outputs": [],
   "source": [
    "primary_colors[2]"
   ]
  },
  {
   "cell_type": "code",
   "execution_count": null,
   "id": "0f2c9651-b40b-493a-8e94-34c1015cfd04",
   "metadata": {},
   "outputs": [],
   "source": [
    "even_numbers[0]"
   ]
  },
  {
   "cell_type": "code",
   "execution_count": null,
   "id": "dbeb07ee-9f5f-43b1-97a3-748060c3a312",
   "metadata": {},
   "outputs": [],
   "source": [
    "even_numbers[1]"
   ]
  },
  {
   "cell_type": "code",
   "execution_count": null,
   "id": "c101f48f-daf1-45ee-ad9d-741bd26f3bb9",
   "metadata": {},
   "outputs": [],
   "source": [
    "even_numbers[2]"
   ]
  },
  {
   "cell_type": "markdown",
   "id": "055afe79-a12c-4321-a658-6eda5b7fe369",
   "metadata": {},
   "source": [
    "You can also use negative numbers to count from the end of the list. But **when using negative indexes, the counting starts from 1**. Confusing? Yeah, a little."
   ]
  },
  {
   "cell_type": "code",
   "execution_count": null,
   "id": "45708f58-5853-4df6-8eb3-8228c31f204f",
   "metadata": {},
   "outputs": [],
   "source": [
    "primary_colors[-1]"
   ]
  },
  {
   "cell_type": "code",
   "execution_count": null,
   "id": "6ea4005f-3d33-476f-a4d6-1da90c30bcb4",
   "metadata": {},
   "outputs": [],
   "source": [
    "primary_colors[-2]"
   ]
  },
  {
   "cell_type": "code",
   "execution_count": null,
   "id": "82b3ba28-a98d-4c2c-95ff-2d6a5a26524b",
   "metadata": {},
   "outputs": [],
   "source": [
    "primary_colors[-3]"
   ]
  },
  {
   "cell_type": "code",
   "execution_count": null,
   "id": "feb2a1c7-f40e-41f6-bafc-d5265d596ae4",
   "metadata": {},
   "outputs": [],
   "source": [
    "primary_colors[-1] == primary_colors[2]"
   ]
  },
  {
   "cell_type": "markdown",
   "id": "2f0489d3-8978-44ca-a9b3-daf6ced3687a",
   "metadata": {},
   "source": [
    "Here's a little challenge to make sure you're grokking list indexes. I've created a list called `classes`. See if you can pick the right index to get the values indicated below."
   ]
  },
  {
   "cell_type": "code",
   "execution_count": null,
   "id": "4619c5db-fbed-46c9-af83-ca1c57b64028",
   "metadata": {},
   "outputs": [],
   "source": [
    "classes = ['English', 'Latin', 'Math', 'Religion', 'Science', 'Coding']"
   ]
  },
  {
   "cell_type": "markdown",
   "id": "4866be53-1857-4e8f-b04c-488563fa16c6",
   "metadata": {},
   "source": [
    "Use a *positive* index to retrieve the value `'Math'`."
   ]
  },
  {
   "cell_type": "code",
   "execution_count": null,
   "id": "81e3b1ea-8603-47d2-9d34-be9dbdfca71a",
   "metadata": {},
   "outputs": [],
   "source": []
  },
  {
   "cell_type": "markdown",
   "id": "c7b3920b-1b81-4dc4-a26f-1812c059e781",
   "metadata": {},
   "source": [
    "Use a *negative* index to retrive the value `'Science'`."
   ]
  },
  {
   "cell_type": "code",
   "execution_count": null,
   "id": "d741d7f8-c7e8-4d54-b2ff-20b6869e1078",
   "metadata": {},
   "outputs": [],
   "source": []
  },
  {
   "cell_type": "markdown",
   "id": "22ee972e-1f8e-4d9b-8a26-75100fd634fd",
   "metadata": {},
   "source": [
    "Use a positive index to retrive the value `'English'`."
   ]
  },
  {
   "cell_type": "code",
   "execution_count": null,
   "id": "d1247570-326e-4fc3-9e4b-c93baa7970d7",
   "metadata": {},
   "outputs": [],
   "source": []
  },
  {
   "cell_type": "markdown",
   "id": "1c71a182-031e-4ed2-827c-1b9ccb53d07f",
   "metadata": {},
   "source": [
    "Use a *negative* index to retrive the value `'Religion'`."
   ]
  },
  {
   "cell_type": "code",
   "execution_count": null,
   "id": "a1045b7b-5266-41a6-bfcb-bc0527ed8a9e",
   "metadata": {},
   "outputs": [],
   "source": []
  },
  {
   "cell_type": "markdown",
   "id": "cf7ec795-997d-4595-bee3-9144757010ae",
   "metadata": {},
   "source": [
    "## Slices\n",
    "\n",
    "Using indexes, you can also \"slice\" lists. Here's the pattern:\n",
    "> `some_list[start_index_inclusive:stop_index_exclusive]`"
   ]
  },
  {
   "cell_type": "markdown",
   "id": "aebfb144-2d95-4ead-a764-2e5b1b7d1d72",
   "metadata": {},
   "source": [
    "For example, here's how you'd use a slice to get the first 4 elements of the `even_numbers` list:"
   ]
  },
  {
   "cell_type": "code",
   "execution_count": null,
   "id": "3e9f9cb4-7382-47b9-995b-787a79f1b3c0",
   "metadata": {},
   "outputs": [],
   "source": [
    "even_numbers[0:4]"
   ]
  },
  {
   "cell_type": "markdown",
   "id": "454edc86-f392-4ec1-8d0a-a0c1b10b299c",
   "metadata": {},
   "source": [
    "If you want to take a slice that starts from the beginning of a list, you can omit the start index (but you still need the colon)."
   ]
  },
  {
   "cell_type": "code",
   "execution_count": null,
   "id": "ca99c789-8d45-4f41-9fec-837a0cfa4580",
   "metadata": {},
   "outputs": [],
   "source": [
    "even_numbers[:4]"
   ]
  },
  {
   "cell_type": "markdown",
   "id": "1e199d88-18de-4eb8-8c5f-a5b88cb6564c",
   "metadata": {},
   "source": [
    "You can also omit the stop index if you want your slice to continue to the end of the list."
   ]
  },
  {
   "cell_type": "code",
   "execution_count": null,
   "id": "de720b0b-1558-4299-aafe-9509aa7b8b48",
   "metadata": {},
   "outputs": [],
   "source": [
    "even_numbers[4:]"
   ]
  },
  {
   "cell_type": "markdown",
   "id": "ef4b241a-9587-4cc3-94b3-9c74af503d81",
   "metadata": {},
   "source": [
    "You try. See if you can slice `even_numbers` so you get the middle portion, excluding the first element (`0`) and the last element (`10`)."
   ]
  },
  {
   "cell_type": "code",
   "execution_count": null,
   "id": "33d2aaf8-1e4d-4dcb-b624-5ea9b6b25837",
   "metadata": {},
   "outputs": [],
   "source": []
  },
  {
   "cell_type": "markdown",
   "id": "10e93827-1ee7-4a19-b4ca-967fb3e1aefe",
   "metadata": {},
   "source": [
    "Did you slice it with two *positive* indexes? Try slicing it with a *negative* stop index."
   ]
  },
  {
   "cell_type": "code",
   "execution_count": null,
   "id": "b21e940c-21e5-4273-9e39-c8359d30f192",
   "metadata": {},
   "outputs": [],
   "source": []
  },
  {
   "cell_type": "markdown",
   "id": "a3323e79-6a97-4729-8b6d-225075b022a7",
   "metadata": {},
   "source": [
    "You probably won't use it often, but you can also include a third element in your slice instructions. It determines the **step size**. Examples are easier than explanations . . ."
   ]
  },
  {
   "cell_type": "markdown",
   "id": "b90dd0b0-c50f-402f-9fc9-109862595a15",
   "metadata": {},
   "source": [
    "The default step size is 1. If you include it, you'll get exactly what you'd get if you left it off."
   ]
  },
  {
   "cell_type": "code",
   "execution_count": null,
   "id": "9c3f877e-d689-4960-90b3-0fe64f4bcb08",
   "metadata": {},
   "outputs": [],
   "source": [
    "even_numbers[0:-1:1]"
   ]
  },
  {
   "cell_type": "markdown",
   "id": "a6904112-b672-47a2-9920-26d55fa9d9ce",
   "metadata": {},
   "source": [
    "But if specify a step size of 2, you'll get every other element."
   ]
  },
  {
   "cell_type": "code",
   "execution_count": null,
   "id": "77e234ec-6c2c-4c0b-970f-9c276fc7599a",
   "metadata": {},
   "outputs": [],
   "source": [
    "even_numbers[0:-1:2]"
   ]
  },
  {
   "cell_type": "markdown",
   "id": "82b804ba-09eb-4ead-b7c5-7dace8535554",
   "metadata": {},
   "source": [
    "And if you include a **negative** step size and omit the start and end indexes, you get the list *reversed*!"
   ]
  },
  {
   "cell_type": "code",
   "execution_count": null,
   "id": "7cee3747-0f6e-4307-a556-e4b41b6824c6",
   "metadata": {},
   "outputs": [],
   "source": [
    "even_numbers[::-1]"
   ]
  }
 ],
 "metadata": {
  "kernelspec": {
   "display_name": "Python 3 (ipykernel)",
   "language": "python",
   "name": "python3"
  },
  "language_info": {
   "codemirror_mode": {
    "name": "ipython",
    "version": 3
   },
   "file_extension": ".py",
   "mimetype": "text/x-python",
   "name": "python",
   "nbconvert_exporter": "python",
   "pygments_lexer": "ipython3",
   "version": "3.12.3"
  }
 },
 "nbformat": 4,
 "nbformat_minor": 5
}
