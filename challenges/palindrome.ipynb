{
 "cells": [
  {
   "cell_type": "markdown",
   "id": "2b01c60e-d2dd-4ca4-9481-d52924eb999f",
   "metadata": {},
   "source": [
    "# Palindrome Challenge\n",
    "\n",
    "## Challenge 1\n",
    "A palindrome is a word that is spelled the same forward and backward, e.g., `racecar`.\n",
    "Remove the line that says `pass` and put in its place code that will test if the input string is a palindrome. It should return `True` if it is and `False` if it is not."
   ]
  },
  {
   "cell_type": "code",
   "execution_count": null,
   "id": "2656a256-4f6b-497e-98e2-24eea4fa970a",
   "metadata": {},
   "outputs": [],
   "source": [
    "def is_palindrome(candidate):\n",
    "    pass"
   ]
  },
  {
   "cell_type": "code",
   "execution_count": null,
   "id": "83c8ad86-3757-4fe2-9d4d-d75c2c437790",
   "metadata": {},
   "outputs": [],
   "source": [
    "assert(is_palindrome('racecar') == True)"
   ]
  },
  {
   "cell_type": "code",
   "execution_count": null,
   "id": "324890dd-bb69-4ed5-8ba7-12b664a0b741",
   "metadata": {},
   "outputs": [],
   "source": [
    "assert(is_palindrome('notapalindrome') == False)"
   ]
  },
  {
   "cell_type": "code",
   "execution_count": null,
   "id": "5b8705ed-65fe-49e6-93df-a4e11d1e6348",
   "metadata": {},
   "outputs": [],
   "source": [
    "assert(is_palindrome('kayak') == True)"
   ]
  },
  {
   "cell_type": "code",
   "execution_count": null,
   "id": "f1655fcc-c2aa-440d-9ea8-192e1e47436a",
   "metadata": {},
   "outputs": [],
   "source": [
    "assert(is_palindrome('deified') == True)"
   ]
  },
  {
   "cell_type": "markdown",
   "id": "3ec3a48c-7278-4637-a365-a14c8316e5fc",
   "metadata": {},
   "source": [
    "## Challenge 2\n",
    "Once you have a function that passes all the tests, try to create a second function that uses a different strategy but still passes the tests. Doing so is good practice."
   ]
  },
  {
   "cell_type": "code",
   "execution_count": null,
   "id": "c975b9b9-49d0-4cda-a339-7edca373fa62",
   "metadata": {},
   "outputs": [],
   "source": [
    "def is_palindrome_v2(candidate):\n",
    "    pass"
   ]
  },
  {
   "cell_type": "code",
   "execution_count": null,
   "id": "25c00eb4-ea58-4533-851c-20595c7d3a81",
   "metadata": {},
   "outputs": [],
   "source": [
    "assert(is_palindrome_v2('racecar') == True)"
   ]
  },
  {
   "cell_type": "code",
   "execution_count": null,
   "id": "dc043f55-7b73-4baa-af54-7e84609d8f94",
   "metadata": {},
   "outputs": [],
   "source": [
    "assert(is_palindrome_v2('notapalindrome') == False)"
   ]
  },
  {
   "cell_type": "code",
   "execution_count": null,
   "id": "7e3c5010-831e-4291-bb7f-69353260f94f",
   "metadata": {},
   "outputs": [],
   "source": [
    "assert(is_palindrome_v2('kayak') == True)"
   ]
  },
  {
   "cell_type": "code",
   "execution_count": null,
   "id": "f3d8ae67-7a2f-41f6-90df-1a8dd56a6a86",
   "metadata": {},
   "outputs": [],
   "source": [
    "assert(is_palindrome_v2('deified') == True)"
   ]
  },
  {
   "cell_type": "markdown",
   "id": "6d85d855-1a65-4714-a4cb-06b5e9c69b10",
   "metadata": {},
   "source": [
    "## Challenge 3\n",
    "Revise `is_palindrome` or `is_palindrome_v2` so that it ignores case and whitespace. `A man a plan a canal Panama` should pass the palindrome test. The revised function should still pass the original tests.\n",
    "(If you're revising `is_palindrome_v2`, be sure to modify the function name in the test, below.)"
   ]
  },
  {
   "cell_type": "code",
   "execution_count": null,
   "id": "a7cadb05-e009-4180-b02d-4ce8028ece31",
   "metadata": {},
   "outputs": [],
   "source": [
    "assert(is_palindrome('a man a plan a canal Panama') == True)"
   ]
  }
 ],
 "metadata": {
  "kernelspec": {
   "display_name": "Python 3 (ipykernel)",
   "language": "python",
   "name": "python3"
  },
  "language_info": {
   "codemirror_mode": {
    "name": "ipython",
    "version": 3
   },
   "file_extension": ".py",
   "mimetype": "text/x-python",
   "name": "python",
   "nbconvert_exporter": "python",
   "pygments_lexer": "ipython3",
   "version": "3.12.3"
  }
 },
 "nbformat": 4,
 "nbformat_minor": 5
}
