{
 "cells": [
  {
   "cell_type": "markdown",
   "id": "6485e7c5-eb17-4586-82a8-ae1ee45e858b",
   "metadata": {},
   "source": [
    "# Mode (Integers)\n",
    "\n",
    "Write a function that, given a list of integers, returns the number that appears most often. If there are multiple modes, return the max of those modes. If the input list is empty, your function should return `None`. DO NOT USE ANY IMPORTS FROM THE `statistics` MODULE.\n",
    "\n",
    "For example:\n",
    "input: `[3, 2, 4, 3]`\n",
    "output: `3`\n",
    "\n",
    "input: `[7, 5, 8, 8, 2, 5]`\n",
    "output: `8` (because `8` is greater than `5`)"
   ]
  },
  {
   "cell_type": "code",
   "execution_count": null,
   "id": "5ebeb1fc-d16a-4aa1-b837-60439cd63ed5",
   "metadata": {},
   "outputs": [],
   "source": [
    "def mode(ints_list):\n",
    "    pass"
   ]
  },
  {
   "cell_type": "markdown",
   "id": "1254d530-2f12-44d0-a6ab-fd539ad1ed5c",
   "metadata": {},
   "source": [
    "## Tests\n",
    "\n",
    "Passing tests will produce no output. Failing tests will throw an error."
   ]
  },
  {
   "cell_type": "code",
   "execution_count": null,
   "id": "97a48a74-fe8a-45a7-920d-329e79d6603d",
   "metadata": {},
   "outputs": [],
   "source": [
    "assert(mode([3, 2, 4, 3]) == 3)"
   ]
  },
  {
   "cell_type": "code",
   "execution_count": null,
   "id": "4804c321-a09a-4f25-b775-2f802993248a",
   "metadata": {},
   "outputs": [],
   "source": [
    "assert(mode([7, 5, 8, 8, 2, 5]) == 8)"
   ]
  },
  {
   "cell_type": "code",
   "execution_count": null,
   "id": "f819bab5-94cf-4e19-9f62-e12417459205",
   "metadata": {},
   "outputs": [],
   "source": [
    "assert(mode([]) == None)"
   ]
  },
  {
   "cell_type": "code",
   "execution_count": null,
   "id": "d6b9973e-a3bf-45e0-af3e-b9b1333aafa3",
   "metadata": {},
   "outputs": [],
   "source": [
    "assert(mode[42]) == 4"
   ]
  },
  {
   "cell_type": "markdown",
   "id": "23ea98ff-3e21-4ef0-9bee-cd6c17e926b3",
   "metadata": {},
   "source": [
    "## Extension\n",
    "\n",
    "Now write a function that takes in a list of floating point numbers instead of a list of integers. It should return the most frequent whole number part. For example, the all these numbers have a whole number part of `1`: `1.0001`, `1.34`, `1.722`, `1.999999999999`. If there are more than one whole-number-part modes, return the greatest.\n",
    "\n",
    "BONUS: solve this problem by reusing the `mode` function you wrote, above. If you need to adjust your `mode` function, be sure it still passes all its tests."
   ]
  },
  {
   "cell_type": "code",
   "execution_count": null,
   "id": "8b40dc85-fd68-4358-8705-0d3f51f0140b",
   "metadata": {},
   "outputs": [],
   "source": [
    "def mode_whole_num(floats_list):\n",
    "    pass"
   ]
  },
  {
   "cell_type": "code",
   "execution_count": null,
   "id": "e584479a-47ba-44b6-aec2-31429c3e69c5",
   "metadata": {},
   "outputs": [],
   "source": [
    "assert(mode_whole_num([2.3, 3.4, 5.9, 2.9, 4.1]) == 2)"
   ]
  },
  {
   "cell_type": "code",
   "execution_count": null,
   "id": "19a0830e-2647-4509-8c09-1f6b60ec6eca",
   "metadata": {},
   "outputs": [],
   "source": [
    "assert(mode_whole_num([22.134, 16.341, 22.678, 16.341]) == 22)"
   ]
  }
 ],
 "metadata": {
  "kernelspec": {
   "display_name": "Python 3 (ipykernel)",
   "language": "python",
   "name": "python3"
  },
  "language_info": {
   "codemirror_mode": {
    "name": "ipython",
    "version": 3
   },
   "file_extension": ".py",
   "mimetype": "text/x-python",
   "name": "python",
   "nbconvert_exporter": "python",
   "pygments_lexer": "ipython3",
   "version": "3.12.3"
  }
 },
 "nbformat": 4,
 "nbformat_minor": 5
}
