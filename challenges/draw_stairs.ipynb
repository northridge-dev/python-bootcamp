{
 "cells": [
  {
   "cell_type": "markdown",
   "id": "f53153dc-a57d-4bb2-89c9-d2d1d99a2e93",
   "metadata": {},
   "source": [
    "# Draw Stairs\n",
    "\n",
    "Write a function that returns an N x N representation of a staircase for any \n",
    "given nonnegative height, N. If the passed-in height is negative, return an empty string.\n",
    "The staircase must climb up from left to right. Each level of stairs logs a string of\n",
    "plus-signs and/or leading spaces. Note that the last stair should only consist of \n",
    "asterisks without any leading spaces.\n",
    " \n",
    "For example:     \n",
    "<code>\n",
    "draw_stairs(6) ->\n",
    "     +\n",
    "    ++\n",
    "   +++\n",
    "  ++++\n",
    " +++++\n",
    "++++++\n",
    "</code>\n",
    "\n",
    "Note: The returned string will look like a staircase when you **print** it."
   ]
  },
  {
   "cell_type": "code",
   "execution_count": null,
   "id": "63e94287-4ac3-4470-8656-279723295826",
   "metadata": {},
   "outputs": [],
   "source": [
    "def draw_stairs(n):\n",
    "    pass"
   ]
  },
  {
   "cell_type": "markdown",
   "id": "040cc381-a0bc-46fd-b571-968a861d8cb4",
   "metadata": {},
   "source": [
    "# Show It"
   ]
  },
  {
   "cell_type": "code",
   "execution_count": null,
   "id": "a18d379e-09de-4108-a02b-195dfd5aa174",
   "metadata": {},
   "outputs": [],
   "source": [
    "print(draw_stairs(6))"
   ]
  },
  {
   "cell_type": "markdown",
   "id": "36e46250-fbfa-4feb-b53f-a18ceee1713d",
   "metadata": {},
   "source": [
    "# Tests\n",
    "\n",
    "Passing tests will produce no ouput. Failing tests will display an error message."
   ]
  },
  {
   "cell_type": "code",
   "execution_count": null,
   "id": "c9a6c95f-f722-4f83-a08f-b689cb96ddcd",
   "metadata": {},
   "outputs": [],
   "source": [
    "assert(draw_stairs(-3) == \"\")"
   ]
  },
  {
   "cell_type": "code",
   "execution_count": null,
   "id": "f218f59c-2399-493b-b148-b9fdf6124dc7",
   "metadata": {},
   "outputs": [],
   "source": [
    "assert(draw_stairs(6) == \"     +\\n    ++\\n   +++\\n  ++++\\n +++++\\n++++++\")"
   ]
  }
 ],
 "metadata": {
  "kernelspec": {
   "display_name": "Python 3 (ipykernel)",
   "language": "python",
   "name": "python3"
  },
  "language_info": {
   "codemirror_mode": {
    "name": "ipython",
    "version": 3
   },
   "file_extension": ".py",
   "mimetype": "text/x-python",
   "name": "python",
   "nbconvert_exporter": "python",
   "pygments_lexer": "ipython3",
   "version": "3.12.3"
  }
 },
 "nbformat": 4,
 "nbformat_minor": 5
}
