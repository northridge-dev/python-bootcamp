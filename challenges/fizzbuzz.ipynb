{
 "cells": [
  {
   "cell_type": "markdown",
   "id": "ade9536e-12aa-4fde-8663-928a52eb6e0f",
   "metadata": {},
   "source": [
    "# FizzBuzz\n",
    "\n",
    "Write a function that returns an array containing the numbers 1 to `num`.\n",
    "\n",
    "Put \n",
    "  - \"fizz\" in place of numbers divisble by 3 but not by 5\n",
    "  - \"buzz\" in place of numbers divisble by 5 but not by 3\n",
    "  - \"fizzbuzz\" in place of numbers divisble by both 3 and 5.\n",
    "\n",
    "For example, `fizzbuzz(16)` should return: `[1, 2, 'fizz', 4, 'buzz', 'fizz', 7, 8, 'fizz', 'buzz',\n",
    "11, 'fizz', 13, 14, 'fizzbuzz', 16]`"
   ]
  },
  {
   "cell_type": "code",
   "execution_count": null,
   "id": "8dfa43dc-bd55-4310-94d5-469d5387574b",
   "metadata": {},
   "outputs": [],
   "source": [
    "def fizzbuzz(num):\n",
    "    pass"
   ]
  },
  {
   "cell_type": "markdown",
   "id": "41c65b0d-ceee-414e-a6b1-2870de63d286",
   "metadata": {},
   "source": [
    "# Tests\n",
    "\n",
    "Passing tests will produce no output. Failing tests will display an error message."
   ]
  },
  {
   "cell_type": "code",
   "execution_count": null,
   "id": "ea1ba292-e832-4354-a2a3-d628c21fc425",
   "metadata": {},
   "outputs": [],
   "source": [
    "assert(fizzbuzz(1) == [1])"
   ]
  },
  {
   "cell_type": "code",
   "execution_count": null,
   "id": "22034476-29bc-4400-99f8-3a50bad68c0c",
   "metadata": {},
   "outputs": [],
   "source": [
    "assert(fizzbuzz(3) == [1, 2, 'fizz'])"
   ]
  },
  {
   "cell_type": "code",
   "execution_count": null,
   "id": "cc890c7b-eb37-49f8-99dc-0641b6655311",
   "metadata": {},
   "outputs": [],
   "source": [
    "assert(fizzbuzz(5) == [1, 2, 'fizz', 4, 'buzz'])"
   ]
  },
  {
   "cell_type": "code",
   "execution_count": null,
   "id": "67a28e05-d477-4e0d-8618-eef932ef4e53",
   "metadata": {},
   "outputs": [],
   "source": [
    "assert(fizzbuzz(10) == [1, 2, 'fizz', 4, 'buzz', 'fizz', 7, 8, 'fizz', 'buzz'])"
   ]
  },
  {
   "cell_type": "code",
   "execution_count": null,
   "id": "ef24395b-9d3b-48e6-b672-f079ff49b2c4",
   "metadata": {},
   "outputs": [],
   "source": [
    "assert(fizzbuzz(16) == [1, 2, 'fizz', 4, 'buzz', 'fizz', 7, 8, 'fizz', 'buzz',\n",
    "11, 'fizz', 13, 14, 'fizzbuzz', 16])"
   ]
  }
 ],
 "metadata": {
  "kernelspec": {
   "display_name": "Python 3 (ipykernel)",
   "language": "python",
   "name": "python3"
  },
  "language_info": {
   "codemirror_mode": {
    "name": "ipython",
    "version": 3
   },
   "file_extension": ".py",
   "mimetype": "text/x-python",
   "name": "python",
   "nbconvert_exporter": "python",
   "pygments_lexer": "ipython3",
   "version": "3.12.3"
  }
 },
 "nbformat": 4,
 "nbformat_minor": 5
}
