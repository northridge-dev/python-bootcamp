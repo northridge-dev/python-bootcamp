{
 "cells": [
  {
   "cell_type": "markdown",
   "id": "8c695b62-1903-4b5e-bfa0-44956cff56d1",
   "metadata": {},
   "source": [
    "# Binary To Decimal\n",
    "\n",
    "Write a function that accepts a binary number (represented as a string) and returns an equivalent decimal (base-10) number. For example:\n",
    "\n",
    "input: \"0\"\n",
    "output: 0\n",
    "\n",
    "input: \"11\"\n",
    "output: 3\n",
    "\n",
    "input: \"100\"\n",
    "output: 4\n",
    "\n",
    "input: \"101\"\n",
    "output: 5\n",
    "\n",
    "input: \"0101\"\n",
    "output: 5\n",
    "\n",
    "**DO NOT** use Python's `int` function or any other built-in or library function whose purpose is converting or casting strings (in some base) to numbers. The point of the exercise is to figure out how a function like that might work."
   ]
  },
  {
   "cell_type": "code",
   "execution_count": null,
   "id": "78d52da9-8dc0-459d-8f7e-8c383e5a86d9",
   "metadata": {},
   "outputs": [],
   "source": [
    "def binary_to_decimal(binary_string):\n",
    "    pass"
   ]
  },
  {
   "cell_type": "markdown",
   "id": "640a5b5c-ed39-403e-8676-e38bc04dcfb2",
   "metadata": {},
   "source": [
    "# Tests\n",
    "\n",
    "These assertions will produce no output if the test passes. If the test fails, you'll see an error message."
   ]
  },
  {
   "cell_type": "code",
   "execution_count": null,
   "id": "02c4c4ba-e54b-4cda-bd85-097d177da866",
   "metadata": {},
   "outputs": [],
   "source": [
    "assert(binary_to_decimal('0') == 0)"
   ]
  },
  {
   "cell_type": "code",
   "execution_count": null,
   "id": "a024d891-8572-4999-9147-dd87d1491981",
   "metadata": {},
   "outputs": [],
   "source": [
    "assert(binary_to_decimal('11') == 3)"
   ]
  },
  {
   "cell_type": "code",
   "execution_count": null,
   "id": "4e83ecee-78b1-443d-9240-19b62ac108db",
   "metadata": {},
   "outputs": [],
   "source": [
    "assert(binary_to_decimal('100') == 4)"
   ]
  },
  {
   "cell_type": "code",
   "execution_count": null,
   "id": "891c7088-82f7-4fb7-b0e8-ddf97edcdd03",
   "metadata": {},
   "outputs": [],
   "source": [
    "assert(binary_to_decimal('0101') == 5)"
   ]
  },
  {
   "cell_type": "code",
   "execution_count": null,
   "id": "a64c5ac9-3a6d-4178-a7a9-90e43a60bae8",
   "metadata": {},
   "outputs": [],
   "source": [
    "assert(binary_to_decimal('010011') == 19)"
   ]
  }
 ],
 "metadata": {
  "kernelspec": {
   "display_name": "Python 3 (ipykernel)",
   "language": "python",
   "name": "python3"
  },
  "language_info": {
   "codemirror_mode": {
    "name": "ipython",
    "version": 3
   },
   "file_extension": ".py",
   "mimetype": "text/x-python",
   "name": "python",
   "nbconvert_exporter": "python",
   "pygments_lexer": "ipython3",
   "version": "3.12.3"
  }
 },
 "nbformat": 4,
 "nbformat_minor": 5
}
