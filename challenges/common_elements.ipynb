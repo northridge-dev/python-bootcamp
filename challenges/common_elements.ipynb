{
 "cells": [
  {
   "cell_type": "markdown",
   "id": "9492a7b1-8ecd-4751-b634-41397bc361b5",
   "metadata": {},
   "source": [
    "# Common Elements (Intersection)\n",
    "\n",
    "To become more flexible problem solvers and coders, let's solve a common problem in a few different ways.\n",
    "\n",
    "The basic problem is this:\n",
    "  - take as inputs two lists\n",
    "  - return a list that contains only elements that can be found in both input lists\n",
    "\n",
    "A few examples:\n",
    "\n",
    "inputs: `[1, 3, 5, 7, 9]` and `[1, 5, 10, 15]`\n",
    "output: `[1, 5]`\n",
    "\n",
    "inputs: `[2, 4, 6, 8, 10]` and `[1, 3, 5, 7, 9]`\n",
    "output: `[]` (empty list since no common elements)\n",
    "\n",
    "input: `['red', 'green', 'blue']` and `['green', 'yellow', 'orange']`\n",
    "output: `['green']`\n",
    "\n",
    "input: `[1, 'red', 'yellow', 3, 4]` and `['yellow', 4, 2, 'blue']`\n",
    "output: `['yellow', 4]`"
   ]
  },
  {
   "cell_type": "code",
   "execution_count": null,
   "id": "3bc04cf9-c27a-451e-9192-6d859fa782c6",
   "metadata": {},
   "outputs": [],
   "source": [
    "# ignore this cell -- it defines a function for testing your functions\n",
    "def test_common_elements(fn, input_one, input_two, intersection):\n",
    "    result = fn(input_one, input_two)\n",
    "    assert(set(result) == set(intersection))"
   ]
  },
  {
   "cell_type": "markdown",
   "id": "540da285-5b0d-4499-a0e5-ede60e180ac4",
   "metadata": {},
   "source": [
    "## Method 1: Loops\n",
    "\n",
    "Start by using some sort of looping mechanism to get the intersection of the two lists."
   ]
  },
  {
   "cell_type": "code",
   "execution_count": null,
   "id": "588126f9-a1d5-4fc0-8e76-bcc0e1149c95",
   "metadata": {},
   "outputs": [],
   "source": [
    "def common_elements_loop(list_one, list_two):\n",
    "    pass"
   ]
  },
  {
   "cell_type": "code",
   "execution_count": null,
   "id": "7f0a7835-bee7-49b4-b534-eb0b355e00fa",
   "metadata": {},
   "outputs": [],
   "source": [
    "test_common_elements(common_elements_loop, [1, 3, 5, 7, 9], [1, 5, 10, 15], [1, 5])"
   ]
  },
  {
   "cell_type": "code",
   "execution_count": null,
   "id": "94ca61d1-af63-46fb-92dc-60987dacab13",
   "metadata": {},
   "outputs": [],
   "source": [
    "test_common_elements(common_elements_loop, [1, 3, 5, 7, 9], [2, 4, 6, 8, 10], [])"
   ]
  },
  {
   "cell_type": "code",
   "execution_count": null,
   "id": "63068dea-9991-49f8-a8bb-995b2708b09b",
   "metadata": {},
   "outputs": [],
   "source": [
    "test_common_elements(common_elements_loop, ['red', 'green', 'blue'], ['green', 'yellow', 'orange'], ['green'])"
   ]
  },
  {
   "cell_type": "code",
   "execution_count": null,
   "id": "4f014a68-4449-49c1-bc50-a557c8e3525b",
   "metadata": {},
   "outputs": [],
   "source": [
    "test_common_elements(common_elements_loop, ['red', 2, 'blue', 5, 10, 'yellow'], ['green', 3, 'yellow', 'orange', 5, 2], ['yellow', 2, 5])"
   ]
  },
  {
   "cell_type": "markdown",
   "id": "847a1393",
   "metadata": {},
   "source": [
    "## Method 2: Sets\n",
    "\n",
    "Next, try to solve the problem using the [Set data type](https://docs.python.org/3.12/tutorial/datastructures.html#sets)."
   ]
  },
  {
   "cell_type": "code",
   "execution_count": null,
   "id": "6560e03c",
   "metadata": {},
   "outputs": [],
   "source": [
    "def common_elements_sets(list_one, list_two):\n",
    "    pass"
   ]
  },
  {
   "cell_type": "code",
   "execution_count": null,
   "id": "54323b5d",
   "metadata": {},
   "outputs": [],
   "source": [
    "test_common_elements(common_elements_sets, [1, 3, 5, 7, 9], [1, 5, 10, 15], [1, 5])"
   ]
  },
  {
   "cell_type": "code",
   "execution_count": null,
   "id": "4e334400",
   "metadata": {},
   "outputs": [],
   "source": [
    "test_common_elements(common_elements_sets, [1, 3, 5, 7, 9], [2, 4, 6, 8, 10], [])"
   ]
  },
  {
   "cell_type": "code",
   "execution_count": null,
   "id": "e031a2cb",
   "metadata": {},
   "outputs": [],
   "source": [
    "test_common_elements(common_elements_sets, ['red', 'green', 'blue'], ['green', 'yellow', 'orange'], ['green'])"
   ]
  },
  {
   "cell_type": "code",
   "execution_count": null,
   "id": "255edf08",
   "metadata": {},
   "outputs": [],
   "source": [
    "test_common_elements(common_elements_sets, ['red', 2, 'blue', 5, 10, 'yellow'], ['green', 3, 'yellow', 'orange', 5, 2], ['yellow', 2, 5])"
   ]
  },
  {
   "cell_type": "markdown",
   "id": "2a2eced5",
   "metadata": {},
   "source": [
    "## Method 3: List Comprehensions\n",
    "\n",
    "Finally, try to solve the problem using a [list comprehension](https://docs.python.org/3.12/tutorial/datastructures.html#list-comprehensions)."
   ]
  },
  {
   "cell_type": "code",
   "execution_count": null,
   "id": "6fd70309",
   "metadata": {},
   "outputs": [],
   "source": [
    "def common_elements_comprehension(list_one, list_two):\n",
    "    pass"
   ]
  },
  {
   "cell_type": "code",
   "execution_count": null,
   "id": "a5454926",
   "metadata": {},
   "outputs": [],
   "source": [
    "test_common_elements(common_elements_comprehension, [1, 3, 5, 7, 9], [1, 5, 10, 15], [1, 5])"
   ]
  },
  {
   "cell_type": "code",
   "execution_count": null,
   "id": "2777aa81",
   "metadata": {},
   "outputs": [],
   "source": [
    "test_common_elements(common_elements_comprehension, [1, 3, 5, 7, 9], [2, 4, 6, 8, 10], [])"
   ]
  },
  {
   "cell_type": "code",
   "execution_count": null,
   "id": "90ae3169",
   "metadata": {},
   "outputs": [],
   "source": [
    "test_common_elements(common_elements_comprehension, ['red', 'green', 'blue'], ['green', 'yellow', 'orange'], ['green'])"
   ]
  },
  {
   "cell_type": "code",
   "execution_count": null,
   "id": "e8bb0f36",
   "metadata": {},
   "outputs": [],
   "source": [
    "test_common_elements(common_elements_comprehension, ['red', 2, 'blue', 5, 10, 'yellow'], ['green', 3, 'yellow', 'orange', 5, 2], ['yellow', 2, 5])"
   ]
  }
 ],
 "metadata": {
  "kernelspec": {
   "display_name": "Python 3 (ipykernel)",
   "language": "python",
   "name": "python3"
  },
  "language_info": {
   "codemirror_mode": {
    "name": "ipython",
    "version": 3
   },
   "file_extension": ".py",
   "mimetype": "text/x-python",
   "name": "python",
   "nbconvert_exporter": "python",
   "pygments_lexer": "ipython3",
   "version": "3.12.3"
  }
 },
 "nbformat": 4,
 "nbformat_minor": 5
}
