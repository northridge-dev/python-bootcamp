{
 "cells": [
  {
   "cell_type": "markdown",
   "id": "a15459ff-1d5c-4b0d-a1fe-ddcb37ae74a2",
   "metadata": {},
   "source": [
    "# Variables"
   ]
  },
  {
   "cell_type": "markdown",
   "id": "f413316e-4e0c-495e-9972-b655d55ae70a",
   "metadata": {},
   "source": [
    "You can use a Python interpreter as a calculator. Give it a try! Type an addition problem, below, and run the cell."
   ]
  },
  {
   "cell_type": "code",
   "execution_count": null,
   "id": "f121e579-c3c1-427c-899e-6807544daa0f",
   "metadata": {},
   "outputs": [],
   "source": [
    "# Add an addition problem, below. No need for an =. Something like 1+1 will do.\n"
   ]
  },
  {
   "cell_type": "markdown",
   "id": "673ee4ee-841a-4674-8e07-380fd9539cfd",
   "metadata": {},
   "source": [
    "Suppose you wanted to recall the result of your previous calculation. In Python, `_` (underscore) is a special variable that points to the last result. Try it by running the cell, below."
   ]
  },
  {
   "cell_type": "code",
   "execution_count": null,
   "id": "bba3d489-7ef8-41e4-9fc6-5742b6b8ff3e",
   "metadata": {},
   "outputs": [],
   "source": [
    "_"
   ]
  },
  {
   "cell_type": "markdown",
   "id": "b0f1b9e3-58e3-4f83-86e9-636c3d3fc02c",
   "metadata": {},
   "source": [
    "That's pretty cool. Not only can you perform a calculation; you can also recall the result of that calculation. Storing and retrieving values is really useful. But the value of `_` will change every time you execute an expression. Proof? Try running the next two cells."
   ]
  },
  {
   "cell_type": "code",
   "execution_count": null,
   "id": "6807034e-54be-4a37-ae3b-84ef491fb39b",
   "metadata": {},
   "outputs": [],
   "source": [
    "(22 * 4) + 6"
   ]
  },
  {
   "cell_type": "code",
   "execution_count": null,
   "id": "55f6c63f-f3c0-48b4-9038-c6aa4923eb86",
   "metadata": {},
   "outputs": [],
   "source": [
    "_"
   ]
  },
  {
   "cell_type": "markdown",
   "id": "42ad45f2-22f9-481f-883b-c208a63aa4a7",
   "metadata": {},
   "source": [
    "See?\n",
    "In practice, you'll rarely see the `_` used to get the value of the last-evaluated expression. "
   ]
  },
  {
   "cell_type": "markdown",
   "id": "5ffdbad1-254c-4d6d-abab-63679f83590c",
   "metadata": {},
   "source": [
    "Instead, you can create a named **variable** by following this pattern:\n",
    "\n",
    ">  \\<variable name> = \\<value to assign to the variable>\n",
    "\n",
    "btw, the `=` when used to initialize a variable is called the *assignment operator*.\n",
    "\n",
    "Here are a few examples:"
   ]
  },
  {
   "cell_type": "code",
   "execution_count": null,
   "id": "219ee431-d61d-41cc-b74d-de372ff1f649",
   "metadata": {},
   "outputs": [],
   "source": [
    "best_baseball_team = \"Dodgers\"\n",
    "dodgers_world_series_wins = 7\n",
    "championship_years = [\"1955\", \"1959\", \"1963\", \"1965\", \"1981\", \"1988\", \"2020\"]\n",
    "overpay_ohtani = False"
   ]
  },
  {
   "cell_type": "markdown",
   "id": "2623a334-7fd4-4cb0-b0d9-f7b3cd3501a6",
   "metadata": {},
   "source": [
    "What can you name your variables? Just about anything as long as the name:\n",
    "- only uses numbers, letters, and underscores\n",
    "- starts with a letter or an underscore (no numbers)\n",
    "- isn't a [reserved keyword](https://docs.python.org/3/reference/lexical_analysis.html#keywords)\n",
    "\n",
    "And variable names are case-sensitive: `favorite_ice_cream_flavor` isn't the same as `Favorite_ice_cream_flavor`."
   ]
  },
  {
   "cell_type": "markdown",
   "id": "d5413c9d-6902-4651-ac75-63466e3f66f6",
   "metadata": {},
   "source": [
    "What **should** you name your variables? As long as you follow the rules, the Python interpreter doesn't care. But future-you and other humans who read your code *do* care. So:\n",
    "1. choose meaningful, descriptive names\n",
    "2. but keep 'em as short as possible (`favorite_ice_cream_flavor` is probably too long)\n",
    "3. and unless you have a good reason not to, follow the Python convention of separating words with an `_` (e.g. `best_baseball_team`) to make the variable names easier to read."
   ]
  },
  {
   "cell_type": "markdown",
   "id": "ec2e7c73-a1d5-4bd7-821f-4ad280ac58d6",
   "metadata": {},
   "source": [
    "Now you try. In the cell, below, create a variable."
   ]
  },
  {
   "cell_type": "code",
   "execution_count": null,
   "id": "6a74581d-2aa4-465f-97e8-405fd23fab06",
   "metadata": {},
   "outputs": [],
   "source": []
  },
  {
   "cell_type": "markdown",
   "id": "6e0ddb91-2e58-4bff-ae24-069f7327ca6d",
   "metadata": {},
   "source": [
    "And now, in the cell below, retrieve the value you stored by typing out the variable name and running the cell."
   ]
  },
  {
   "cell_type": "code",
   "execution_count": null,
   "id": "9d8aeb1a-0152-4efb-9aed-246724bc0ac7",
   "metadata": {},
   "outputs": [],
   "source": []
  },
  {
   "cell_type": "markdown",
   "id": "0fcf14b5-ddd4-445e-a0fd-50dd6ec6c1ce",
   "metadata": {},
   "source": [
    "What happens if you try to use a variable name that doesn't exist (or doesn't exist yet)? Find out by running the next cell."
   ]
  },
  {
   "cell_type": "code",
   "execution_count": null,
   "id": "47c96a55-4185-4da1-af98-6fea7f532bf4",
   "metadata": {},
   "outputs": [],
   "source": [
    "a_ridiculously_long_variable_name_that_unless_you_are_trying_to_sabotage_the_notebook_does_not_exist"
   ]
  },
  {
   "cell_type": "markdown",
   "id": "b168d422-2cfb-48f5-98c0-dd2d484c805d",
   "metadata": {},
   "source": [
    "A **NameError** is what happens. The Python interpreter keeps a list of variables and the memory address where the value associated with each variable is stored. If you use a variable that's on the list, the interpreter will fetch the value for you. If the variable name isn't on the list, the interpreter can't perform the operation you asked for, so it throws an error (aka, \"raises an exception\"). And now you've seen what that looks like. In a notebook like this or in a REPL/shell, the error isn't fatal; you can keep running code. If you make the same mistake in a script, the program will exit. 😢"
   ]
  },
  {
   "cell_type": "markdown",
   "id": "29dfdf1c-4d31-4ab5-9cbd-2e41cb37b479",
   "metadata": {},
   "source": [
    "In Python, you can reassign the value of a variable. (That's not true in every language.) In the cells, below, I've initialized a variable, retrieved it, reassigned the value of that same variable, and retrieved the updated value:"
   ]
  },
  {
   "cell_type": "code",
   "execution_count": null,
   "id": "d2d8b371-934d-491b-8f2c-19231df62585",
   "metadata": {},
   "outputs": [],
   "source": [
    "favorite_ice_cream_flavor = \"vanilla\""
   ]
  },
  {
   "cell_type": "code",
   "execution_count": null,
   "id": "1a086ed9-20f7-4de1-a47d-ec76e3d817a2",
   "metadata": {},
   "outputs": [],
   "source": [
    "favorite_ice_cream_flavor"
   ]
  },
  {
   "cell_type": "code",
   "execution_count": null,
   "id": "0e369880-0df0-41fd-b2cf-c947a4b54b91",
   "metadata": {},
   "outputs": [],
   "source": [
    "favorite_ice_cream_flavor = \"butter pecan\""
   ]
  },
  {
   "cell_type": "code",
   "execution_count": null,
   "id": "42c166bf-b867-4d3e-b920-ffa4c7223d78",
   "metadata": {},
   "outputs": [],
   "source": [
    "favorite_ice_cream_flavor"
   ]
  },
  {
   "cell_type": "markdown",
   "id": "062014e4-56ed-4277-856f-d33d5abed205",
   "metadata": {},
   "source": [
    "That's kind of neat, but it can also be the source of bugs in your program."
   ]
  },
  {
   "cell_type": "markdown",
   "id": "e0fa4df4-d7a2-4f8d-a36d-b693455a3dca",
   "metadata": {},
   "source": [
    "You can assign the result of a calculation to a variable. For example:"
   ]
  },
  {
   "cell_type": "code",
   "execution_count": null,
   "id": "f88496d2-f302-46a8-b73b-702f45367d64",
   "metadata": {},
   "outputs": [],
   "source": [
    "sum = 1 + 1"
   ]
  },
  {
   "cell_type": "code",
   "execution_count": null,
   "id": "6764b7e1-09d3-43f1-b905-51f7ff02f00a",
   "metadata": {},
   "outputs": [],
   "source": [
    "sum"
   ]
  },
  {
   "cell_type": "markdown",
   "id": "de5b9932-529e-4908-9aa8-a8ee2ccaf633",
   "metadata": {},
   "source": [
    "You can also use a variable to assign the value of another variable."
   ]
  },
  {
   "cell_type": "code",
   "execution_count": null,
   "id": "939aa7e4-6957-4c7d-9276-a00cac0b5870",
   "metadata": {},
   "outputs": [],
   "source": [
    "test_1 = 90\n",
    "test_2 = 92\n",
    "test_3 = 101\n",
    "average = (test_1 + test_2 + test_3) / 3\n",
    "average"
   ]
  },
  {
   "cell_type": "markdown",
   "id": "50300213-39a3-4931-8945-18bbcf055ad3",
   "metadata": {},
   "source": [
    "You can even use the a variable to *update itself*"
   ]
  },
  {
   "cell_type": "code",
   "execution_count": null,
   "id": "2b2bd4e3-572b-4598-b78a-3aa6080e2fc6",
   "metadata": {},
   "outputs": [],
   "source": [
    "points = 10\n",
    "points = points + 5\n",
    "points"
   ]
  },
  {
   "cell_type": "markdown",
   "id": "8418cdae-1c17-4cc8-8911-6ca1192c263a",
   "metadata": {},
   "source": [
    "How does that work?! The Python interpreter tackles the reassignment in a couple of steps:\n",
    "1. it looks up the current value of `points` (10) and uses that value in place of the name `points`\n",
    "2. it executes the calculation (10 + 5) on the right side of the assignment operator\n",
    "3. it stores the result of that calculation at the variable name `points`"
   ]
  },
  {
   "cell_type": "markdown",
   "id": "da43af30-b978-4a35-b18f-493071d1bc5d",
   "metadata": {},
   "source": [
    "\"Pythonic\" is the word developers use to describe code that is written the way a Python craftsman would write it. The *Pythonic* way to write the code, above, uses a special combination operator `+=` that tells the interpreter to add *and* reassign:"
   ]
  },
  {
   "cell_type": "code",
   "execution_count": null,
   "id": "880bb2d2-0fb6-4dc4-a22d-a90f9f9d7c1f",
   "metadata": {},
   "outputs": [],
   "source": [
    "pythonic_points = 10\n",
    "pythonic_points += 5\n",
    "pythonic_points"
   ]
  },
  {
   "cell_type": "markdown",
   "id": "dc0c8b2e-dd96-46b9-a075-e723f38d175d",
   "metadata": {},
   "source": [
    "Let's close with a few nifty tricks."
   ]
  },
  {
   "cell_type": "markdown",
   "id": "b15b6e61-5041-4a39-9885-7ec9874d3710",
   "metadata": {},
   "source": [
    "You can *unset* a variable if you really want to."
   ]
  },
  {
   "cell_type": "code",
   "execution_count": null,
   "id": "16f8c303-2b68-4b07-92e9-b298f5670547",
   "metadata": {},
   "outputs": [],
   "source": [
    "throw_me_away = True"
   ]
  },
  {
   "cell_type": "code",
   "execution_count": null,
   "id": "6d4c4603-3a14-460c-af9b-8d82fa3517a2",
   "metadata": {},
   "outputs": [],
   "source": [
    "throw_me_away"
   ]
  },
  {
   "cell_type": "code",
   "execution_count": null,
   "id": "334488e0-a7b3-4436-9346-adee04a24d5f",
   "metadata": {},
   "outputs": [],
   "source": [
    "del throw_me_away"
   ]
  },
  {
   "cell_type": "code",
   "execution_count": null,
   "id": "ed77d99c-d697-4615-bc0f-39895a35f532",
   "metadata": {},
   "outputs": [],
   "source": [
    "throw_me_away"
   ]
  },
  {
   "cell_type": "markdown",
   "id": "28a5ee08-d96d-4944-a7b2-272b0ed22e77",
   "metadata": {},
   "source": [
    "You can assign multiple variables at the same time:"
   ]
  },
  {
   "cell_type": "code",
   "execution_count": null,
   "id": "b8cbce16-7a5f-4b24-b03a-21087f458e33",
   "metadata": {},
   "outputs": [],
   "source": [
    "first, second, third = 1, 2, 3"
   ]
  },
  {
   "cell_type": "code",
   "execution_count": null,
   "id": "b4db5fa4-7314-4db1-a144-71f43d4c046d",
   "metadata": {},
   "outputs": [],
   "source": [
    "first"
   ]
  },
  {
   "cell_type": "code",
   "execution_count": null,
   "id": "5efec405-7e07-45bb-8467-50e1e5d9dbec",
   "metadata": {},
   "outputs": [],
   "source": [
    "second"
   ]
  },
  {
   "cell_type": "code",
   "execution_count": null,
   "id": "82c2589d-646f-4f1c-8742-66a585d20fc5",
   "metadata": {},
   "outputs": [],
   "source": [
    "third"
   ]
  },
  {
   "cell_type": "markdown",
   "id": "9ea26a69-f379-4c9e-80cc-16814f3e7c75",
   "metadata": {},
   "source": [
    "You can assign multiple variables to the same value:"
   ]
  },
  {
   "cell_type": "code",
   "execution_count": null,
   "id": "6377e7d9-eb37-4c01-a851-85af81eeb038",
   "metadata": {},
   "outputs": [],
   "source": [
    "a = b = c = 42"
   ]
  },
  {
   "cell_type": "code",
   "execution_count": null,
   "id": "03a995c2-e220-4448-83ad-863e3cf10b42",
   "metadata": {},
   "outputs": [],
   "source": [
    "a"
   ]
  },
  {
   "cell_type": "code",
   "execution_count": null,
   "id": "5445c272-48c1-4cd2-a5c2-779c2ab0b6d8",
   "metadata": {},
   "outputs": [],
   "source": [
    "b"
   ]
  },
  {
   "cell_type": "code",
   "execution_count": null,
   "id": "fe504f7f-7dd2-43bf-95e6-2bfb6425030a",
   "metadata": {},
   "outputs": [],
   "source": [
    "c"
   ]
  },
  {
   "cell_type": "markdown",
   "id": "9250c8a4-2d5b-4fa0-8b6c-81aeb67c8101",
   "metadata": {},
   "source": [
    "That works because the Python interpreter makes those assignments right-to-left. First `c` is assigned the value `42`, then `b` is assigned the value of `c` (which of course is `42`), and last, `a` is assigned the value of `b`."
   ]
  },
  {
   "cell_type": "markdown",
   "id": "dbc35914-bb68-4ea8-a192-b30392e8bef3",
   "metadata": {},
   "source": [
    "Okay, last trick for now. You can also *swap* the values of variables:"
   ]
  },
  {
   "cell_type": "code",
   "execution_count": null,
   "id": "1a5ff5fc-b419-4453-8058-45c838916825",
   "metadata": {},
   "outputs": [],
   "source": [
    "best_chicago_team = \"Cubs\"\n",
    "worst_chicago_team = \"White Sox\"\n",
    "best_chicago_team, worst_chicago_team = worst_chicago_team, best_chicago_team"
   ]
  },
  {
   "cell_type": "code",
   "execution_count": null,
   "id": "98117355-bf35-4092-8b99-5d5d50b17a2a",
   "metadata": {},
   "outputs": [],
   "source": [
    "best_chicago_team"
   ]
  },
  {
   "cell_type": "code",
   "execution_count": null,
   "id": "30f46c97-42ec-498b-9db0-72486c506f20",
   "metadata": {},
   "outputs": [],
   "source": [
    "worst_chicago_team"
   ]
  },
  {
   "cell_type": "markdown",
   "id": "1713dfdf-22b9-476d-b0b2-616284ffb521",
   "metadata": {},
   "source": [
    "Now it's your turn to experiment. Change any of the code above or add additional cells to experiment. You're not finished until you feel like you have a pretty good grasp of how to work with variables."
   ]
  }
 ],
 "metadata": {
  "kernelspec": {
   "display_name": "Python 3 (ipykernel)",
   "language": "python",
   "name": "python3"
  },
  "language_info": {
   "codemirror_mode": {
    "name": "ipython",
    "version": 3
   },
   "file_extension": ".py",
   "mimetype": "text/x-python",
   "name": "python",
   "nbconvert_exporter": "python",
   "pygments_lexer": "ipython3",
   "version": "3.12.3"
  }
 },
 "nbformat": 4,
 "nbformat_minor": 5
}
