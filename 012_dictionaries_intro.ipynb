{
 "cells": [
  {
   "cell_type": "markdown",
   "id": "c06cee15-e3f8-452e-8cf5-7addd2516f37",
   "metadata": {},
   "source": [
    "# Dictionaries\n",
    "\n",
    "Hopefully you're now feeling pretty comfortable with lists, because it's time to dive into another Python type: **dictionaries**."
   ]
  },
  {
   "cell_type": "markdown",
   "id": "06e29362-b8e2-4afe-bd35-1653df4c14ab",
   "metadata": {},
   "source": [
    "## Creating a Dictionary\n",
    "\n",
    "Lists store elements -- strings, numbers, Booleans, and even lists -- in a particular *order*. Dictionaries, by contrast, are collections of *named* values. In computer science-speak, you'd call Python dictionaries *associative arrays* or *hash tables* or *maps*. Here's an example:"
   ]
  },
  {
   "cell_type": "code",
   "execution_count": null,
   "id": "8522f671-2c1f-4efb-af3e-3ce9c569187e",
   "metadata": {},
   "outputs": [],
   "source": [
    "cubs = {\n",
    "    \"first_base\": \"Michael Busch\",\n",
    "    \"second_base\": \"Nico Hoerner\",\n",
    "    \"short_stop\": \"Dansby Swanson\",\n",
    "    \"third_base\": \"Isaac Parades\",\n",
    "}"
   ]
  },
  {
   "cell_type": "markdown",
   "id": "74243d52-1660-4696-b349-b20af2e97f52",
   "metadata": {},
   "source": [
    "Here's what it looks like when you retrieve a dictionary."
   ]
  },
  {
   "cell_type": "code",
   "execution_count": null,
   "id": "cc9c02b9-55fb-4d78-8503-ab4cddc77416",
   "metadata": {},
   "outputs": [],
   "source": [
    "cubs"
   ]
  },
  {
   "cell_type": "markdown",
   "id": "943b56fa-8b7f-46bd-8c55-21dc408c9138",
   "metadata": {},
   "source": [
    "Instead of the square brackets (`[]`) that enclose lists, dictionaries use curly braces (`{}`). And each element in the dictionary is a **key-value** pair. In the above example, the **key** `short_stop` is paired with the **value** `\"Dansby Swanson\"`."
   ]
  },
  {
   "cell_type": "markdown",
   "id": "b7fc7a08-8479-498b-8b5e-b2e0b6b6c777",
   "metadata": {},
   "source": [
    "## Retrieving Dictionary Values\n",
    "\n",
    "When you're working with *lists*, if you want a particular value, you ask for it by its ***index***, that is, by its place or order in the list. With dictionaries, by contrast, you can ask for the ***value*** associated with a particular ***key***. So if we want to know who plays second base for the Cubs, we could ask"
   ]
  },
  {
   "cell_type": "code",
   "execution_count": null,
   "id": "e3bd6473-cb74-485e-a25b-7b64d9679330",
   "metadata": {},
   "outputs": [],
   "source": [
    "cubs[\"second_base\"]"
   ]
  },
  {
   "cell_type": "markdown",
   "id": "006d647f-4123-456c-994a-45db31d04723",
   "metadata": {},
   "source": [
    "And if we want to know who plays first base . . ."
   ]
  },
  {
   "cell_type": "code",
   "execution_count": null,
   "id": "3eb4b184-4122-485f-97d3-d0a6758b282b",
   "metadata": {},
   "outputs": [],
   "source": [
    "cubs[\"first_base\"]"
   ]
  },
  {
   "cell_type": "markdown",
   "id": "3088c861-a5d4-43b7-855a-781bf41d22e1",
   "metadata": {},
   "source": [
    "But be careful! If you ask for a key that isn't in the dictionary, you'll get a `KeyError`."
   ]
  },
  {
   "cell_type": "code",
   "execution_count": null,
   "id": "66ad19c3-257a-42ed-a5e4-f065b8f95ac2",
   "metadata": {},
   "outputs": [],
   "source": [
    "cubs[\"right_field\"]"
   ]
  },
  {
   "cell_type": "markdown",
   "id": "08d6608b-f27f-43ad-81d0-ea0f0f0be147",
   "metadata": {},
   "source": [
    "You can instead retrieve a value by passing its key to the dictionary's `get` method..."
   ]
  },
  {
   "cell_type": "code",
   "execution_count": null,
   "id": "e362246d-25b2-4a5e-afac-c3fbf847f9e6",
   "metadata": {},
   "outputs": [],
   "source": [
    "cubs.get(\"first_base\")"
   ]
  },
  {
   "cell_type": "markdown",
   "id": "eb1c3c0f-4638-4281-9441-283fd1e6fe36",
   "metadata": {},
   "source": [
    "The `get` method doesn't throw an error if you ask for a non-existant key. Instead, it quietly returns `None` (which you won't see when you run the code, below)."
   ]
  },
  {
   "cell_type": "code",
   "execution_count": null,
   "id": "629a91b5-caa2-41c8-91b4-71417b857bd1",
   "metadata": {},
   "outputs": [],
   "source": [
    "cubs.get(\"right_field\")"
   ]
  },
  {
   "cell_type": "markdown",
   "id": "741336a3-ca39-4d3c-ad45-d45a93652f53",
   "metadata": {},
   "source": [
    "You can also pass a second argument to the `get` method, a \"fallback\" value that will be returned if the key isn't in the dictionary."
   ]
  },
  {
   "cell_type": "code",
   "execution_count": null,
   "id": "d044abd5-6d51-4054-8e50-c3519c59ceda",
   "metadata": {},
   "outputs": [],
   "source": [
    "cubs.get(\"right_field\", \"I dunno. Who?\")"
   ]
  },
  {
   "cell_type": "markdown",
   "id": "dd81b13f-9bdb-4343-b660-effb925b217e",
   "metadata": {},
   "source": [
    "## Adding Key-Value Pairs\n",
    "\n",
    "You can add a key-value pair to a dictionary like so ..."
   ]
  },
  {
   "cell_type": "code",
   "execution_count": null,
   "id": "59258203-6e00-4336-b3d2-593a182c6af6",
   "metadata": {},
   "outputs": [],
   "source": [
    "cubs[\"center_field\"] = \"Pete Crow-Armstrong\"\n",
    "cubs"
   ]
  },
  {
   "cell_type": "raw",
   "id": "d8d63770-f05f-493b-acad-942d2321b3d3",
   "metadata": {},
   "source": [
    "That's the most common way to add a key-value pair. But you could use the dictionary's `update` method. With the `update` method, you can add more than one key-value pair at a time. Either pass key-value pairs as arguments..."
   ]
  },
  {
   "cell_type": "code",
   "execution_count": null,
   "id": "9330dd93-ca7e-4538-a9d4-bef1a23bd3a3",
   "metadata": {},
   "outputs": [],
   "source": [
    "cubs.update(right_field=\"Seiya Suzuki\", left_field=\"Ian Happ\")\n",
    "cubs"
   ]
  },
  {
   "cell_type": "markdown",
   "id": "1abd2503-aeef-4061-99ef-89bad5288700",
   "metadata": {},
   "source": [
    "Or pass a dictionary with the new key-value pairs..."
   ]
  },
  {
   "cell_type": "code",
   "execution_count": null,
   "id": "5d8113c8-8e09-4733-b977-0df1ae6e7868",
   "metadata": {},
   "outputs": [],
   "source": [
    "cubs.update({ \"catcher\": \"Miguel Amaya\", \"designated_hitter\": \"Cody Bellinger\" })\n",
    "cubs"
   ]
  },
  {
   "cell_type": "markdown",
   "id": "0f72e571-7c0c-47c8-8422-b60e85ba4fa3",
   "metadata": {},
   "source": [
    "## Updating Values\n",
    "\n",
    "The same pattern -- `<dictionary>[\"<key>\"] = <value>` -- and the `update` method can both be used to change the value of a key if it already exists."
   ]
  },
  {
   "cell_type": "code",
   "execution_count": null,
   "id": "ba2560bc-ebba-46d1-b02a-b3cedf6b9184",
   "metadata": {},
   "outputs": [],
   "source": [
    "cubs[\"center_field\"] = \"Cody Bellinger\""
   ]
  },
  {
   "cell_type": "code",
   "execution_count": null,
   "id": "b7b16686-6776-4b53-a555-d90f2d17c6fc",
   "metadata": {},
   "outputs": [],
   "source": [
    "cubs[\"center_field\"]"
   ]
  },
  {
   "cell_type": "code",
   "execution_count": null,
   "id": "7380835c-b90b-4c44-995d-c5ea92145190",
   "metadata": {},
   "outputs": [],
   "source": [
    "cubs.update(designated_hitter=\"Pete Crow-Armstrong\")"
   ]
  },
  {
   "cell_type": "code",
   "execution_count": null,
   "id": "94617bba-9225-428d-9b37-cec909655c7c",
   "metadata": {},
   "outputs": [],
   "source": [
    "cubs.get(\"designated_hitter\")"
   ]
  },
  {
   "cell_type": "markdown",
   "id": "c4fd6e06-a1eb-42be-81e4-0f79bd8f4290",
   "metadata": {},
   "source": [
    "BONUS: Since Python 3.9, you can also use the **update operator**:"
   ]
  },
  {
   "cell_type": "code",
   "execution_count": null,
   "id": "7beb2d0d-4d6b-4bc1-9ccc-0ae4da899bec",
   "metadata": {},
   "outputs": [],
   "source": [
    "cubs |= { \"third_base\": \"Patrick Wisdom\" }\n",
    "cubs"
   ]
  },
  {
   "cell_type": "markdown",
   "id": "a9d4046d-83f6-41df-a46c-456908bc417c",
   "metadata": {},
   "source": [
    "## Deleting Key-Value Pairs\n",
    "\n",
    "You won't commonly need to delete keys (and their values) from a dictionary. But here's how to do it:"
   ]
  },
  {
   "cell_type": "code",
   "execution_count": null,
   "id": "03704f7e-c01d-46ca-841d-53c2b09114eb",
   "metadata": {},
   "outputs": [],
   "source": [
    "del cubs[\"designated_hitter\"]\n",
    "cubs"
   ]
  },
  {
   "cell_type": "markdown",
   "id": "62cf779e-8103-4572-8c9a-77ea5adeec16",
   "metadata": {},
   "source": [
    "But if you try to delete a key that isn't in the dictionary with `del`, you'll get a `KeyError`."
   ]
  },
  {
   "cell_type": "code",
   "execution_count": null,
   "id": "0da37b5d-a1ae-441b-873f-6ae7cba2f8fa",
   "metadata": {},
   "outputs": [],
   "source": [
    "del cubs[\"designated_hitter\"] "
   ]
  },
  {
   "cell_type": "markdown",
   "id": "ee321956-8334-4eb4-9c7c-e9d813b1f838",
   "metadata": {},
   "source": [
    "So it's safer to use the `pop` method with `None` as the second argument:"
   ]
  },
  {
   "cell_type": "code",
   "execution_count": null,
   "id": "1796e38e-c8ed-44a3-a3e4-ca848beb97f1",
   "metadata": {},
   "outputs": [],
   "source": [
    "cubs.pop(\"designated_hitter\", None)"
   ]
  },
  {
   "cell_type": "markdown",
   "id": "ffb9642b-fdbc-4924-8cbe-9d4710559b44",
   "metadata": {},
   "source": [
    "## Testing for Membership\n",
    "\n",
    "You can ask Python if a key is in a dictionary and it will return a Boolean (`True` or `False`)."
   ]
  },
  {
   "cell_type": "code",
   "execution_count": null,
   "id": "53fdfbf1-a515-435c-b018-5e102af509ec",
   "metadata": {},
   "outputs": [],
   "source": [
    "\"first_base\" in cubs"
   ]
  },
  {
   "cell_type": "code",
   "execution_count": null,
   "id": "d556ff6e-227d-46bc-b1bc-a31f9d1418c2",
   "metadata": {},
   "outputs": [],
   "source": [
    "\"nose_tackle\" in cubs"
   ]
  },
  {
   "cell_type": "markdown",
   "id": "78443cac-eff4-42f1-bc6d-1e343d8514cb",
   "metadata": {},
   "source": [
    "That's how you test if a **key** is in the dictionary. It won't work for **values**..."
   ]
  },
  {
   "cell_type": "code",
   "execution_count": null,
   "id": "304e2bfc-4920-456f-8dc7-7790998d829c",
   "metadata": {},
   "outputs": [],
   "source": [
    "\"Michael Busch\" in cubs"
   ]
  },
  {
   "cell_type": "code",
   "execution_count": null,
   "id": "3eedd1c7-37ee-4011-aff3-ea16d7797261",
   "metadata": {},
   "outputs": [],
   "source": [
    "\"Nico Hoerner\" in cubs"
   ]
  },
  {
   "cell_type": "markdown",
   "id": "85135d49-e32c-485d-9cb3-002fcd560e9e",
   "metadata": {},
   "source": [
    "But you *can* use the `values` method to get a list of in the dictionary and test if the value you're interested in is a member of that list:"
   ]
  },
  {
   "cell_type": "code",
   "execution_count": null,
   "id": "3d2c9870-7404-4635-b043-e41e5d6f6004",
   "metadata": {},
   "outputs": [],
   "source": [
    "\"Michael Busch\" in cubs.values()"
   ]
  },
  {
   "cell_type": "code",
   "execution_count": null,
   "id": "2b2e3d22-b751-4767-abbc-0d60520d8263",
   "metadata": {},
   "outputs": [],
   "source": [
    "\"Nico Hoerner\" in cubs.values()"
   ]
  },
  {
   "cell_type": "code",
   "execution_count": null,
   "id": "b95f46f8-3524-491a-9a76-c76aa08a81b0",
   "metadata": {},
   "outputs": [],
   "source": [
    "\"Shohei Ohtani\" in cubs.values() # Sorry, Cubs fans. Too soon?"
   ]
  },
  {
   "cell_type": "markdown",
   "id": "46835b9b-597e-487d-be9e-39e828cb7c71",
   "metadata": {},
   "source": [
    "## Exercise: Class Schedule\n",
    "\n",
    "Create a variable called `schedule` and assign to it a dictionary that has a key-value pair for each of your first four periods, something like `\"first\": \"AP History\"`.\n",
    "\n",
    "Then:\n",
    "  - use complete your schedule using at least two different ways of adding key-value pairs\n",
    "  - imagine your schedule was changed. Update `schedule` accordingly."
   ]
  },
  {
   "cell_type": "code",
   "execution_count": null,
   "id": "f2d1053c-a6a3-4798-8bc7-48fd62ce4435",
   "metadata": {},
   "outputs": [],
   "source": [
    "schedule = {}"
   ]
  },
  {
   "cell_type": "markdown",
   "id": "793f46d8-daf3-4d95-af7a-8f7ae48f2d07",
   "metadata": {},
   "source": [
    "BONUS: Now write a function that will take two inputs, your schedule and a subject (e.g., \"Coding\"). It should return the period in which you have that class or some useful message if that subject is not in the schedule. Extra bonus points if the input isn't case-sensitive."
   ]
  },
  {
   "cell_type": "code",
   "execution_count": null,
   "id": "0b301c32-077c-4abe-9815-54db0cb0cfa3",
   "metadata": {},
   "outputs": [],
   "source": []
  }
 ],
 "metadata": {
  "kernelspec": {
   "display_name": "Python 3 (ipykernel)",
   "language": "python",
   "name": "python3"
  },
  "language_info": {
   "codemirror_mode": {
    "name": "ipython",
    "version": 3
   },
   "file_extension": ".py",
   "mimetype": "text/x-python",
   "name": "python",
   "nbconvert_exporter": "python",
   "pygments_lexer": "ipython3",
   "version": "3.12.3"
  }
 },
 "nbformat": 4,
 "nbformat_minor": 5
}
