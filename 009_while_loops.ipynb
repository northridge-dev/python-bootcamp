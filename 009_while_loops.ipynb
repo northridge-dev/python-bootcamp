{
 "cells": [
  {
   "cell_type": "markdown",
   "id": "452ddccb-365a-4ce1-b9aa-09da63fecec3",
   "metadata": {},
   "source": [
    "# `while` Loops\n",
    "\n",
    "Functions are one way to bundle up code so it can be reused. Loops are a second way. And a loop that executes a block of code again and again *as long as* or ***while*** some condition is true is called a `while` loop. Here's an example. `count` is set to `0` when it is created. What do you think `count` will equal once the code finishes executing?"
   ]
  },
  {
   "cell_type": "code",
   "execution_count": null,
   "id": "0f422911-ec69-4118-ad05-d39d738d9cc9",
   "metadata": {},
   "outputs": [],
   "source": [
    "count = 0\n",
    "\n",
    "while count < 10:\n",
    "    count += 1\n",
    "\n",
    "count"
   ]
  },
  {
   "cell_type": "markdown",
   "id": "65f00715-55b9-4074-8337-413496d8d37b",
   "metadata": {},
   "source": [
    "The pattern is:\n",
    "\n",
    "```text\n",
    "while <condition>:\n",
    "  <code block>\n",
    "```\n",
    "\n",
    "- The **condition** must evaluate to a Boolean (`True` or `False`) and be followed by a colon.\n",
    "- The **code block** is indented. It will run if and only if the **condition** is true.\n",
    "- Once the code block finishes executing, the Python interpreter will jump back up and re-evaluate the **condition**.\n",
    "- As long as the **condition** is `True`, the interpreter will keep *looping* back. As soon as the **condition** evaluates to `False`, the interpreter will skip over the **code block** and move on to the first line of code after the while loop."
   ]
  },
  {
   "cell_type": "markdown",
   "id": "c2c6ae41-2494-49d4-aed3-22dbdf33abcc",
   "metadata": {},
   "source": [
    "The code below is *DANGEROUS*. Can you tell why?\n",
    "\n",
    "```python\n",
    "count = 0\n",
    "sum = 0\n",
    "\n",
    "while sum < 10:\n",
    "  count += 1\n",
    "```"
   ]
  },
  {
   "cell_type": "markdown",
   "id": "a792f395-edf7-4c64-bcb7-b59d889ed4cc",
   "metadata": {},
   "source": [
    "Look closely. Does the condition ever change? Nope. The value of `sum` stays `0`. If the condition initially evaluated to `False`, the code would still be buggy, but because the condition initially evaluates to `True` and the result of the conditional never changes, the loop will keep looping **forever!!** (Well, maybe not forever. The notebook has a safety mechanism that will kill the interpreter after a while.)\n",
    "\n",
    "That's what people in the biz call an **infinite loop**."
   ]
  },
  {
   "cell_type": "markdown",
   "id": "fb5e4057-8606-41cc-b219-62f4fe204853",
   "metadata": {},
   "source": [
    "IMPORTANT: **variables used in the condition should be updated by the code in the while loop's code block**."
   ]
  },
  {
   "cell_type": "markdown",
   "id": "c94e7df2-595b-4f27-9e6e-6b442d251475",
   "metadata": {},
   "source": [
    "This code is dangerous, too:\n",
    "\n",
    "```python\n",
    "sum = 0\n",
    "\n",
    "while sum >= 0:\n",
    "  sum += 1\n",
    "```"
   ]
  },
  {
   "cell_type": "markdown",
   "id": "6bfcc54f-d1bc-47d8-98d9-1400c41a1478",
   "metadata": {},
   "source": [
    "The value of `sum` is updated on each loop, but its value never gets closer to tipping the condition from `True` to `False`. `sum` started out greater than or equal to zero and it just keeps getting bigger.\n",
    "\n",
    "Maybe a loop loops 100 or 1000 or a million or a billion times. But **the logic of the condition and the code block should eventually lead to the condition becoming `False`**."
   ]
  },
  {
   "cell_type": "markdown",
   "id": "6fad8ad9-1343-4b0e-8082-162e3020bb09",
   "metadata": {},
   "source": [
    "Okay, your turn. Write a loop that will count down to `0`. The assertion (`assert`), below, will check that your loop has resulted in `countdown` being equal to `0`. (And of course you should see `\"Blast off!\"` printed.)"
   ]
  },
  {
   "cell_type": "code",
   "execution_count": null,
   "id": "6492eb5e-3ad2-48c1-b807-ba1c863a1397",
   "metadata": {},
   "outputs": [],
   "source": [
    "countdown = 10\n",
    "\n",
    "# add your while loop here\n",
    "\n",
    "print(\"Blast off!\")"
   ]
  },
  {
   "cell_type": "code",
   "execution_count": null,
   "id": "aa092739-08e0-444c-a273-a3d130ed1306",
   "metadata": {},
   "outputs": [],
   "source": [
    "assert(countdown == 0)"
   ]
  },
  {
   "cell_type": "markdown",
   "id": "af42b264-9370-49d0-9d6d-6548a781fd36",
   "metadata": {},
   "source": [
    "Let's try another. Multiplication is really just repeated addition, and repeated addition is something we can do with a loop. So if you want to multiply a `multiplicand` by a `multiplier`, you can add the `multiplicand` `multiplier` times. "
   ]
  },
  {
   "cell_type": "code",
   "execution_count": null,
   "id": "9c9cea17-dd6b-4ba5-8af1-a382919e1741",
   "metadata": {},
   "outputs": [],
   "source": [
    "multiplicand = 8\n",
    "multiplier = 9\n",
    "product = 0\n",
    "\n",
    "# add your loop here"
   ]
  },
  {
   "cell_type": "code",
   "execution_count": null,
   "id": "d592ef04-c77c-4e86-8193-f3691d046b86",
   "metadata": {},
   "outputs": [],
   "source": [
    "assert(product == multiplicand * multiplier)"
   ]
  },
  {
   "cell_type": "markdown",
   "id": "57173394-9982-4b9d-b0ff-30031946670c",
   "metadata": {},
   "source": [
    "If you're having trouble and need a hint (or two or three):\n",
    "  1. use `multiplier` in the condition\n",
    "  2. don't forget to update `multipler` in the code block so that the loop ends\n",
    "  3. in the code block, you should also increment `product` by `multiplicand`"
   ]
  },
  {
   "cell_type": "markdown",
   "id": "3619c3ec-75cc-4f4e-bc19-68e29466c300",
   "metadata": {},
   "source": [
    "If you got the multiplication loop and want a challenge, try to write a division loop. Division can be thought of as repeated subtraction. But it's a little trickier since divisors don't always divide dividends equally."
   ]
  },
  {
   "cell_type": "code",
   "execution_count": null,
   "id": "36528207-9843-4a9b-b1d9-ca9a79fa381e",
   "metadata": {},
   "outputs": [],
   "source": [
    "dividend = 92\n",
    "divisor = 9\n",
    "whole_number_quotient = 0\n",
    "remainder = 0\n",
    "\n",
    "# add your division loop here; when it's finished, the quotient and remainder should have the right values"
   ]
  },
  {
   "cell_type": "code",
   "execution_count": null,
   "id": "146eb49f-c521-4049-b693-1927958e11b5",
   "metadata": {},
   "outputs": [],
   "source": [
    "assert(whole_number_quotient == dividend // divisor)\n",
    "assert(remainder == dividend % divisor)"
   ]
  }
 ],
 "metadata": {
  "kernelspec": {
   "display_name": "Python 3 (ipykernel)",
   "language": "python",
   "name": "python3"
  },
  "language_info": {
   "codemirror_mode": {
    "name": "ipython",
    "version": 3
   },
   "file_extension": ".py",
   "mimetype": "text/x-python",
   "name": "python",
   "nbconvert_exporter": "python",
   "pygments_lexer": "ipython3",
   "version": "3.12.3"
  }
 },
 "nbformat": 4,
 "nbformat_minor": 5
}
