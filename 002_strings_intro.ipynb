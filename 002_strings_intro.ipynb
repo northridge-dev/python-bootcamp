{
 "cells": [
  {
   "attachments": {},
   "cell_type": "markdown",
   "id": "6149ac8f-54b8-4447-a406-1856aba74df3",
   "metadata": {},
   "source": [
    "# Strings!\n",
    "\n",
    "(Not a section of the orchestra, but a built-in Python data type.)\n",
    "\n",
    "A Python **string** is a sequence of characters, like letters, numbers, or symbols, that represents text. Think of it like a sentence or a word in a book, where each character is stored in a specific order.\n",
    "\n",
    "Here are a few examples:"
   ]
  },
  {
   "cell_type": "code",
   "execution_count": null,
   "id": "8a69c4ac-24f5-47f0-bfc9-9902b35b8179",
   "metadata": {},
   "outputs": [],
   "source": [
    "\"Hello, World!\"\n",
    "\"12\"\n",
    "\"To be, or not to be, that is the question: Whether 'tis nobler in the mind to suffer the slings and arrows of outrageous fortune ...\"\n",
    "\"你好\"\n",
    "\"🤪\""
   ]
  },
  {
   "cell_type": "markdown",
   "id": "42d5ca65-571e-43ac-912c-185fc1f9cd8d",
   "metadata": {},
   "source": [
    "A string can be a single character (including non-Latin characters, punction, symbols, or emojis), a word, a sentence, or a whole book. Maybe you noticed that each string was enclosed in double quotation marks: `\"<string contents>\"`. You can also use single quotation marks. What's most important is that the opening and closing quotation marks match."
   ]
  },
  {
   "cell_type": "code",
   "execution_count": null,
   "id": "8fec3e88-040d-4c44-985f-9efbbe4c7978",
   "metadata": {},
   "outputs": [],
   "source": [
    "'Hello, World!' # but not 'Hello, World!\" or \"Hello, World!'\n",
    "'12'\n",
    "'你好'\n",
    "'🤪'"
   ]
  },
  {
   "cell_type": "markdown",
   "id": "8a65af0b-249b-409c-b272-5c257e4263b7",
   "metadata": {},
   "source": [
    "But update the cell, below, to see what happens if you try to replace the double quotation marks surrounding Hamlet's speech with single quotations . . ."
   ]
  },
  {
   "cell_type": "code",
   "execution_count": null,
   "id": "baa75681-3293-46d7-a1f7-8e11041feb31",
   "metadata": {},
   "outputs": [],
   "source": [
    "\"To be, or not to be, that is the question: Whether 'tis nobler in the mind to suffer the slings and arrows of outrageous fortune ...\""
   ]
  },
  {
   "cell_type": "markdown",
   "id": "e864ff5d-ca4d-4a84-8d56-92685bffca95",
   "metadata": {},
   "source": [
    "The problem is the `'tis` -- Python interprets the `'` at the beginning of `'tis` as a single quotation mark ending the string that started with `To be`. Once it thinks the string has ended, it doesn't know what to do with all the stuff that comes after the `'` in `'tis`."
   ]
  },
  {
   "cell_type": "markdown",
   "id": "0a6bce68-6a75-4295-9b05-533ea33b3619",
   "metadata": {},
   "source": [
    "Whether you use double or single quotation marks is often a stylistic preference, but you'll sometimes find yourself using double quotation marks so you can use an apostrophe or single quotation marks inside the string (or vice versa, using single quotation marks so you can use double quotation marks within the string)."
   ]
  },
  {
   "cell_type": "code",
   "execution_count": null,
   "id": "976ec893-3630-4a8d-855a-4baa2d381c23",
   "metadata": {},
   "outputs": [],
   "source": [
    "'He said, \"Oh yeah, make me!\"'\n",
    "\"You can't make me!\""
   ]
  },
  {
   "cell_type": "markdown",
   "id": "7ff60566-a40e-412e-b3c7-99d82e8d2005",
   "metadata": {},
   "source": [
    "You can instead use an escape character to signal to Python that you'd like to treat your single or double quotation marks as part of the string rather than as a string delimiter:"
   ]
  },
  {
   "cell_type": "code",
   "execution_count": null,
   "id": "d21cca85-25e1-41c0-b082-c67415a4941a",
   "metadata": {},
   "outputs": [],
   "source": [
    "# this works because the \\ escapes the quotation marks\n",
    "\"He said, \\\"Oh yeah, make me!\\\"\""
   ]
  },
  {
   "cell_type": "code",
   "execution_count": null,
   "id": "759a4804-f9c6-41d5-b4d1-850d37ad5cd6",
   "metadata": {},
   "outputs": [],
   "source": [
    "# here again the \\ escapes the apostrophe\n",
    "'Whether \\'tis nobler in the mind'"
   ]
  },
  {
   "cell_type": "markdown",
   "id": "94ea8482-ecad-49f1-9713-4328444aec50",
   "metadata": {},
   "source": [
    "When we looked at variables, we saw examples of storing strings. Here's an example:"
   ]
  },
  {
   "cell_type": "code",
   "execution_count": null,
   "id": "2cdc6079-4e61-46d5-b6a5-4d6c9728ae34",
   "metadata": {},
   "outputs": [],
   "source": [
    "greeting = 'Hello'"
   ]
  },
  {
   "cell_type": "code",
   "execution_count": null,
   "id": "7bb4d750-1b34-4f84-bd56-a325f1b5c168",
   "metadata": {},
   "outputs": [],
   "source": [
    "greeting"
   ]
  },
  {
   "cell_type": "markdown",
   "id": "d853ed31-3c98-496f-8485-46b8ccde0cb0",
   "metadata": {},
   "source": [
    "If you enclose a string in triple single quotes (`'''`), you can use special escape sequences to add whitespace:\n",
    "- `\\t` for a tab\n",
    "- `\\n` for a new line\n",
    "\n",
    "Below is an example. The value itself doesn't look any different, but see what happens when you `print` the string."
   ]
  },
  {
   "cell_type": "code",
   "execution_count": null,
   "id": "26fe4ab6-52c2-446a-9354-3988962853ff",
   "metadata": {},
   "outputs": [],
   "source": [
    "string_with_escape_sequences = '''\\tAn indented line\\nA new line'''"
   ]
  },
  {
   "cell_type": "code",
   "execution_count": null,
   "id": "ca0cafa9-34ee-4f39-9b8a-1486345a9310",
   "metadata": {},
   "outputs": [],
   "source": [
    "string_with_escape_sequences"
   ]
  },
  {
   "cell_type": "code",
   "execution_count": null,
   "id": "2f8d3609-24b6-4d7b-b66b-d1468ce6fcdb",
   "metadata": {},
   "outputs": [],
   "source": [
    "print(string_with_escape_sequences)"
   ]
  },
  {
   "cell_type": "markdown",
   "id": "e3c2376f-1d09-40c9-81ec-a2c0671f1a5e",
   "metadata": {},
   "source": [
    "If you enclose a string in triple double quotes (`\"\"\"`), you can add the whitespace yourself. Python will take care of inserting the escape characters."
   ]
  },
  {
   "cell_type": "code",
   "execution_count": null,
   "id": "3339b8f6-bfb8-4e9a-9b56-16f6844a106b",
   "metadata": {},
   "outputs": [],
   "source": [
    "string_with_whitespace = \"\"\"A first line\n",
    "A second line\n",
    "\tA third line, indented\"\"\""
   ]
  },
  {
   "cell_type": "code",
   "execution_count": null,
   "id": "5f75d612-5894-4b9e-8058-886ac38afa8c",
   "metadata": {},
   "outputs": [],
   "source": [
    "string_with_whitespace"
   ]
  },
  {
   "cell_type": "code",
   "execution_count": null,
   "id": "06c45c4d-df03-4187-ad8d-589593943542",
   "metadata": {},
   "outputs": [],
   "source": [
    "print(string_with_whitespace)"
   ]
  },
  {
   "cell_type": "markdown",
   "id": "dea9fd42-f291-4b90-a772-ec5ccdb999c2",
   "metadata": {},
   "source": [
    "# Concatenation and Interpolation\n",
    "Often you'll want to concatenate (join together) two or more strings. You can do so with the `+` operator:"
   ]
  },
  {
   "cell_type": "code",
   "execution_count": null,
   "id": "4063304c-9c6a-40f4-8ebf-50cabe37ca9a",
   "metadata": {},
   "outputs": [],
   "source": [
    "'Hello, ' + 'World!' "
   ]
  },
  {
   "cell_type": "markdown",
   "id": "30ccaf82-6b3b-43a2-b3d8-1a7d080f998d",
   "metadata": {},
   "source": [
    "Notice that we included a space at the end of the first string. Alternatively, you could have included it at the beginning of the second. But if we hadn't included that space, the result of the concatenation would have looked like this: `Hello,World!`."
   ]
  },
  {
   "cell_type": "markdown",
   "id": "94c54ae1-416f-481a-a054-da3bc7db5c5c",
   "metadata": {},
   "source": [
    "The `+` operator is **overloaded**: when you use it with numbers, it adds the numbers, but when you use it with strings, it joins them. A Python string can *look* a lot like a number but not *act* like a number:"
   ]
  },
  {
   "cell_type": "code",
   "execution_count": null,
   "id": "e8acf409-e583-412e-970c-e0111c16b433",
   "metadata": {},
   "outputs": [],
   "source": [
    "\"1\" + \"1\" + \"1\""
   ]
  },
  {
   "cell_type": "markdown",
   "id": "5c88b54a-18e7-456c-b2e1-a29116498816",
   "metadata": {},
   "source": [
    "You can also create variables that store strings and concatenate those variables, like so:"
   ]
  },
  {
   "cell_type": "code",
   "execution_count": null,
   "id": "73c1ef64-6ecd-496a-bcb9-54d1e00ae2d6",
   "metadata": {},
   "outputs": [],
   "source": [
    "opening = 'Hello'\n",
    "name = 'Mr. Fagan'\n",
    "opening + name"
   ]
  },
  {
   "cell_type": "markdown",
   "id": "6465d813-8453-4686-b829-ad3fd0f9fd00",
   "metadata": {},
   "source": [
    "That doesn't look quite right, does it. We can concatenate several strings together, mixing and matching variables with string literals (including some missing whitespace):"
   ]
  },
  {
   "cell_type": "code",
   "execution_count": null,
   "id": "43c3f3ef-72b1-4766-855e-b39923d47906",
   "metadata": {},
   "outputs": [],
   "source": [
    "opening + ', ' + name + '!'"
   ]
  },
  {
   "cell_type": "markdown",
   "id": "0cea5913-64c3-4627-a9be-26eb85a542cc",
   "metadata": {},
   "source": [
    "We can achieve a similar result with **string interpolation**. Interpolation here just means inserting a string value into another string value. To do so, you'll usually use an **f-string** (\"f\" stands for \"formatted\"). You add an `f` before the opening quotation mark and enclose the interpolated value inside braces (`{}`):"
   ]
  },
  {
   "cell_type": "code",
   "execution_count": null,
   "id": "936280c6-256a-4c9e-87c8-b12dde55a1dd",
   "metadata": {},
   "outputs": [],
   "source": [
    "f\"Hello, {name}!\""
   ]
  },
  {
   "cell_type": "markdown",
   "id": "c409891d-7d03-4494-88e0-8c102cbae30c",
   "metadata": {},
   "source": [
    "You can interpolate more than one value in a string:"
   ]
  },
  {
   "cell_type": "code",
   "execution_count": null,
   "id": "d4aa3875-9b22-4c8f-bb6c-9afce3f5b7fc",
   "metadata": {},
   "outputs": [],
   "source": [
    "day = \"Thursday\"\n",
    "f\"Hello, {name}! How are you doing this fine {day}?\""
   ]
  },
  {
   "cell_type": "markdown",
   "id": "59f36933-5065-41dd-8ef7-4f71f323daa9",
   "metadata": {},
   "source": [
    "F-strings are a newer syntax. To achieve the same result in older versions of Python, you had to do this:"
   ]
  },
  {
   "cell_type": "code",
   "execution_count": null,
   "id": "b25eff02-d441-4e26-bd94-9738247ffa75",
   "metadata": {},
   "outputs": [],
   "source": [
    "\"Hello, {0}! How are you doing this fine {1}\".format(name, day)"
   ]
  },
  {
   "cell_type": "markdown",
   "id": "7378b9c7-a153-45f3-ac66-0e1bf99f8205",
   "metadata": {},
   "source": [
    "Or, one more way:"
   ]
  },
  {
   "cell_type": "code",
   "execution_count": null,
   "id": "23b6ae93-a52c-4984-b93d-d74f37692460",
   "metadata": {},
   "outputs": [],
   "source": [
    "\"Hello, %s! How are you doing this fine %s?\" % (name, day)"
   ]
  },
  {
   "cell_type": "markdown",
   "id": "1ee74f8b-4296-496d-b136-dcefed0e06fe",
   "metadata": {},
   "source": [
    "But if you ask me, the f-string syntax is the most \"ergonomic\" (easiest, most pleasing)."
   ]
  },
  {
   "cell_type": "markdown",
   "id": "09bdf88c-e60e-469e-aa59-60e3cc06f499",
   "metadata": {},
   "source": [
    "That's enough to get you started. There's plenty more to learn about strings, but that can wait until the next notebook. For now, modify the code, above, or create new cells below to experiment until you feel pretty comfortable creating, concatenating, and interpolating strings."
   ]
  }
 ],
 "metadata": {
  "kernelspec": {
   "display_name": "Python 3 (ipykernel)",
   "language": "python",
   "name": "python3"
  },
  "language_info": {
   "codemirror_mode": {
    "name": "ipython",
    "version": 3
   },
   "file_extension": ".py",
   "mimetype": "text/x-python",
   "name": "python",
   "nbconvert_exporter": "python",
   "pygments_lexer": "ipython3",
   "version": "3.12.3"
  }
 },
 "nbformat": 4,
 "nbformat_minor": 5
}
