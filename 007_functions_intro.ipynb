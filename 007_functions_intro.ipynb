{
 "cells": [
  {
   "cell_type": "markdown",
   "id": "1e42df30-46b8-45ab-8267-24ee3d128e73",
   "metadata": {},
   "source": [
    "# Intro to Fun, Fun, Functions!\n",
    "\n",
    "Functions allow you to package up code that you can reuse again and again and again. They also can help reduce complexity by breaking problems into smaller chunks."
   ]
  },
  {
   "cell_type": "markdown",
   "id": "547e53df-4c0c-4606-9731-196525338260",
   "metadata": {},
   "source": [
    "## Example\n",
    "\n",
    "Let's start with an example. At the end of the previous notebook, we saw some code that can capitalize each word in a string. So you don't have to open the notebook again, here it is:"
   ]
  },
  {
   "cell_type": "code",
   "execution_count": null,
   "id": "1dc72773-9465-4d79-9591-9db52e3cffed",
   "metadata": {},
   "outputs": [],
   "source": [
    "studious_saint = \"st. thomas aquinas\"\n",
    "capitalized = ''\n",
    "\n",
    "for name in studious_saint.split():\n",
    "    capitalized += name[:1].upper() + name[1:] + ' '\n",
    "\n",
    "capitalized.strip()"
   ]
  },
  {
   "cell_type": "markdown",
   "id": "c0c15117-4e61-439a-be70-6d7268cea138",
   "metadata": {},
   "source": [
    "Here's what it could look like refactored into a function."
   ]
  },
  {
   "cell_type": "code",
   "execution_count": null,
   "id": "58aafa17-1635-4d32-b099-1b82a9eebd9e",
   "metadata": {},
   "outputs": [],
   "source": [
    "def capitalize_name(full_name):\n",
    "    capitalized = ''\n",
    "\n",
    "    for name in full_name.split():\n",
    "        capitalized += name[:1].upper() + name[1:] + ' '\n",
    "\n",
    "    return capitalized.strip()"
   ]
  },
  {
   "cell_type": "markdown",
   "id": "9d5ce33d-a476-430f-9d0c-4db5f911e8b8",
   "metadata": {},
   "source": [
    "And here's how you might use it:"
   ]
  },
  {
   "cell_type": "code",
   "execution_count": null,
   "id": "4b726081-c4e5-4f0c-9421-cef1c89e51a6",
   "metadata": {},
   "outputs": [],
   "source": [
    "capitalize_name('st. thomas aquinas')"
   ]
  },
  {
   "cell_type": "markdown",
   "id": "54dbde3e-3791-4bff-98df-09ab75ce13bb",
   "metadata": {},
   "source": [
    "And use it again . . . "
   ]
  },
  {
   "cell_type": "code",
   "execution_count": null,
   "id": "9267719b-d073-40a0-b83a-93ea3a1c09cf",
   "metadata": {},
   "outputs": [],
   "source": [
    "capitalize_name('st. thomas becket')"
   ]
  },
  {
   "cell_type": "markdown",
   "id": "c4434675-dd5e-48fa-aa90-c02bfef02cc0",
   "metadata": {},
   "source": [
    "And again . . ."
   ]
  },
  {
   "cell_type": "code",
   "execution_count": null,
   "id": "f6a7620e-22a6-43fd-b2ba-b61178062fd0",
   "metadata": {},
   "outputs": [],
   "source": [
    "capitalize_name('st. thomas more')"
   ]
  },
  {
   "cell_type": "markdown",
   "id": "372adc4e-6924-4f04-9fdb-5b11ac9dbfc3",
   "metadata": {},
   "source": [
    "And again ..."
   ]
  },
  {
   "cell_type": "code",
   "execution_count": null,
   "id": "25cd1a15-e5ad-4a04-8eb7-dfb276caf9c5",
   "metadata": {},
   "outputs": [],
   "source": [
    "capitalize_name('st. josemaría escrivá')"
   ]
  },
  {
   "cell_type": "markdown",
   "id": "5306b28a-67e7-4357-9011-e9d94e86cd4b",
   "metadata": {},
   "source": [
    "Hopefully you're getting a sense for how functions can allow you to reuse code. We'll have to wait to see a good example of functions being used to reduce complexity."
   ]
  },
  {
   "cell_type": "markdown",
   "id": "d90f6aa4-6294-4157-abce-15ec687067fa",
   "metadata": {},
   "source": [
    "## How to Define a Function\n",
    "\n",
    "Let's look back at that example to understand how to create a function. "
   ]
  },
  {
   "cell_type": "markdown",
   "id": "8e05b1d3-f3b5-45d5-b0c9-8dc01d0e2d0f",
   "metadata": {},
   "source": [
    "1. A function defintion begins with the keyword `def`. You could think of a function as a variable name, but instead of storing a value, it stores a chunk of code that can be executed on-demand. `def` tells the Python interpreter that what follows will be a function defintion."
   ]
  },
  {
   "cell_type": "markdown",
   "id": "72ddb3e2-6fc7-4d78-a9d2-6a5637c1bdaf",
   "metadata": {},
   "source": [
    "2. After the keyword `def`, you name the function. In our example, we chose the name `capitalize_name` because it describes reasonably well what the function does."
   ]
  },
  {
   "cell_type": "markdown",
   "id": "9295d29c-33df-4b34-a00e-a61d30914046",
   "metadata": {},
   "source": [
    "3. Following the name is a pair of parentheses and inside those parentheses is zero, one, or more **parameters**. Parameters are inputs to the function: data the function takes in. Very often, the function performs some sort of operation on its inputs. In our example, there's a single parameter, `full_name`. When you call the function (more on that below), the first input to the object gets assigned to a variable called `full_name`. That's the name we can use to refer to the input value in the body of our function. "
   ]
  },
  {
   "cell_type": "markdown",
   "id": "ecbbad2c-321d-4a92-b7a1-a45ee0225339",
   "metadata": {},
   "source": [
    "4. The first line of a function definition -- `def <function_name>(<param1>):` ends with a colon. You can't leave it out! Think of it as a signal to the Python interpreter that you're going to a continue the same instruction on a new line."
   ]
  },
  {
   "cell_type": "markdown",
   "id": "03d936a1-d17e-4752-b494-f0bae1b6bf09",
   "metadata": {},
   "source": [
    "5. What follows is called the **body** of the function. You can do pretty much anything inside a function: create variables, perform calculations, even define additional functions. But this is critical: **the function body must be indented consistently!** It's typical to indent top-level code a tab or four spaces. Any further indendention -- for example, the line that starts `capitalized +=` -- is *on top of* the baseline function-body indentation. Indentation is how Python knows what code belongs to the function and what code is outside the function. (Other programming languages use something like braces (`{}`) to surround a function body, but Python relies on indentation.)"
   ]
  },
  {
   "cell_type": "markdown",
   "id": "565abea6-73a9-446b-b1ca-af1d84734b71",
   "metadata": {},
   "source": [
    "6. The function ends with a `return` statement. `return` specifies what value (or values) should be the output -- the \"return\" -- of the function. Any code you included beyond that return statement would never be executed: once Python reaches the `return` keyword, it breaks out of the function. Not every Python function has a return statement; the purpose of such function is typically to perform a \"side effect\", for example, printing something to the screen. In such cases, Python implicitly returns `None`."
   ]
  },
  {
   "cell_type": "markdown",
   "id": "07138a0f-46c5-4e4f-8035-ab1f42200bb3",
   "metadata": {},
   "source": [
    "There's plenty more to know about functions, but that's a good start: functions in six easy pieces."
   ]
  },
  {
   "cell_type": "markdown",
   "id": "65e7dbfe-51bf-42bb-b177-ee59ac67a97f",
   "metadata": {},
   "source": [
    "## Using (or \"Calling\") a Function\n",
    "\n",
    "Once a function definition has been loaded into memory, it's available for use. To use it, type it's name followed by a pair of parentheses. The parentheses signal to Python that you want to execute the function (not just get back its definition). Inside the parentheses, you'll pass any inputs, also called **arguments**. The number and order of **parameters** in the function definition should match the number and order of **arguments** or inputs you supply when calling the function. If there's more than one argument, separate them with a comma.\n",
    "\n",
    "*Calling a function with zero arguments*\n",
    "> `<function_name>()`\n",
    "\n",
    "*Calling a function with one argument*\n",
    "> `<function_name>(<arg1>)`\n",
    "\n",
    "*Calling a function with two arguments*\n",
    "> `<function_name>(<arg1>, <arg2>)`"
   ]
  },
  {
   "cell_type": "markdown",
   "id": "993c4c45-e267-4784-85a4-9c50351bce63",
   "metadata": {},
   "source": [
    "## Simpler Example\n",
    "\n",
    "In just a moment, you'll write your own function. Here's a slightly simpler example you can follow."
   ]
  },
  {
   "cell_type": "code",
   "execution_count": null,
   "id": "0d4ac3d3-8247-4d35-b3e3-0ab6ede4ffe4",
   "metadata": {},
   "outputs": [],
   "source": [
    "def add(num1, num2):\n",
    "    sum = num1 + num2\n",
    "    return sum\n",
    "\n",
    "add(3, 4)"
   ]
  },
  {
   "cell_type": "markdown",
   "id": "8391df27-0e5a-436b-846f-0ec28210977b",
   "metadata": {},
   "source": [
    "`add` is a function with two parameters, `num1` and `num2`. In its body, I assigned a the sum of the two inputs to a variable named `sum` and then returned value stored at `sum`. (In practice, most Python developers would skip the variable assignment and shorten the body to a single line, `return num1 + num2`, but being a bit more verbose helps you get the idea of functions a little better, maybe).\n",
    "\n",
    "Then I **invoked** the function, passing to it the arguments `3` and `4`. If you run the code cell, you'll see the output of the function."
   ]
  },
  {
   "cell_type": "markdown",
   "id": "89826527-c456-41c9-98ba-fad105ce652f",
   "metadata": {},
   "source": [
    "## Practice\n",
    "\n",
    "Now you try. In the three cells below, write three functions, one called `subtract`, one called `multiply`, and one called `divide`. After defining each, use them."
   ]
  },
  {
   "cell_type": "code",
   "execution_count": null,
   "id": "85b40a95-737f-42a6-9c9e-5021b56e541a",
   "metadata": {},
   "outputs": [],
   "source": []
  },
  {
   "cell_type": "code",
   "execution_count": null,
   "id": "508e18db-576d-4de9-a495-b73823f331a3",
   "metadata": {},
   "outputs": [],
   "source": []
  },
  {
   "cell_type": "code",
   "execution_count": null,
   "id": "12451037-92cc-41bd-8975-9ccc7bbe8f64",
   "metadata": {},
   "outputs": [],
   "source": []
  },
  {
   "cell_type": "markdown",
   "id": "cd26e0d2-f456-413c-b376-528639edea0b",
   "metadata": {},
   "source": [
    "Once you've defined them, you can run the cells below to make sure that your functions work as expected."
   ]
  },
  {
   "cell_type": "code",
   "execution_count": null,
   "id": "06d5ac2b-7c41-4b54-ac91-c59886c48080",
   "metadata": {},
   "outputs": [],
   "source": [
    "assert(subtract(18, 20) == -2)"
   ]
  },
  {
   "cell_type": "code",
   "execution_count": null,
   "id": "01f23f0d-fb8e-40f0-9a61-c4f87f9b757e",
   "metadata": {},
   "outputs": [],
   "source": [
    "assert(multiply(3, 9) == 27)"
   ]
  },
  {
   "cell_type": "code",
   "execution_count": null,
   "id": "e2638bb9-e8e2-45e8-a3e8-7e3311267cfe",
   "metadata": {},
   "outputs": [],
   "source": [
    "assert(divide(5, 4) == 1.25)"
   ]
  }
 ],
 "metadata": {
  "kernelspec": {
   "display_name": "Python 3 (ipykernel)",
   "language": "python",
   "name": "python3"
  },
  "language_info": {
   "codemirror_mode": {
    "name": "ipython",
    "version": 3
   },
   "file_extension": ".py",
   "mimetype": "text/x-python",
   "name": "python",
   "nbconvert_exporter": "python",
   "pygments_lexer": "ipython3",
   "version": "3.11.4"
  }
 },
 "nbformat": 4,
 "nbformat_minor": 5
}
