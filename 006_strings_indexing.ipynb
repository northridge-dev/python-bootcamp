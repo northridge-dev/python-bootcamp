{
 "cells": [
  {
   "cell_type": "markdown",
   "id": "ad1e5da2-2f00-4411-b5a9-1fbc1bd081a3",
   "metadata": {},
   "source": [
    "# String Indexes\n",
    "\n",
    "You just saw that a **list** is *an ordered collection of objects*. A few notebooks ago, we learned that a **string** is *an ordered sequence of characters*. That similarity -- that both lists and strings are ordered sequences -- suggests there may be similarities in the ways Python lets you work with these data structures. In fact, much of what you just learned about list indexes will apply to strings, too!"
   ]
  },
  {
   "cell_type": "markdown",
   "id": "304c8332-1f09-4cb3-8c93-48a8c8f1c059",
   "metadata": {},
   "source": [
    "## Length\n",
    "\n",
    "For example, you can use the built-in `len` function to find the length of a string in same way you used it to find the length of a list."
   ]
  },
  {
   "cell_type": "code",
   "execution_count": null,
   "id": "e87e39c2-36fa-4077-a6ad-e10b322f3326",
   "metadata": {},
   "outputs": [],
   "source": [
    "long_word = 'gobbledygook'\n",
    "longer_word = 'lackadaisical'"
   ]
  },
  {
   "cell_type": "code",
   "execution_count": null,
   "id": "dafe25f1-fbc2-45d8-b419-d868a52a72c6",
   "metadata": {},
   "outputs": [],
   "source": [
    "len(long_word)"
   ]
  },
  {
   "cell_type": "code",
   "execution_count": null,
   "id": "e31b9702-f23b-4677-925b-80ba5d4012aa",
   "metadata": {},
   "outputs": [],
   "source": [
    "len(longer_word)"
   ]
  },
  {
   "cell_type": "code",
   "execution_count": null,
   "id": "da88f0bc-c261-46b5-a6e5-4ed4ba2eae11",
   "metadata": {},
   "outputs": [],
   "source": [
    "len(longer_word) > len(long_word)"
   ]
  },
  {
   "cell_type": "markdown",
   "id": "d6c0ccf4-766a-4fdb-83fd-e1bfc93ee39d",
   "metadata": {},
   "source": [
    "## Indexes\n",
    "\n",
    "Just like lists, you can use indexes to get individual characters within a string. And just like lists, the first index is `0`."
   ]
  },
  {
   "cell_type": "code",
   "execution_count": null,
   "id": "5559a744-5ee5-4384-8fc1-c1621c19f35c",
   "metadata": {},
   "outputs": [],
   "source": [
    "long_word[0]"
   ]
  },
  {
   "cell_type": "code",
   "execution_count": null,
   "id": "daedcd2c-8f92-4312-8927-3cec43d6d743",
   "metadata": {},
   "outputs": [],
   "source": [
    "longer_word[0]"
   ]
  },
  {
   "cell_type": "markdown",
   "id": "0eea6d9e-5d30-4dbb-8ce5-2773d196d61d",
   "metadata": {},
   "source": [
    "You can still use negative indexes."
   ]
  },
  {
   "cell_type": "code",
   "execution_count": null,
   "id": "4d0d9e47-1e0f-4ea8-9d5d-c55c58cbb5d8",
   "metadata": {},
   "outputs": [],
   "source": [
    "long_word[-1]"
   ]
  },
  {
   "cell_type": "code",
   "execution_count": null,
   "id": "00c85139-28c4-48ac-b01a-4977121c9f2c",
   "metadata": {},
   "outputs": [],
   "source": [
    "longer_word[-3]"
   ]
  },
  {
   "cell_type": "markdown",
   "id": "7b016dfd-ec23-45fe-8865-f965602b1dd7",
   "metadata": {},
   "source": [
    "## Slices\n",
    "\n",
    "Strings can also be sliced like lists."
   ]
  },
  {
   "cell_type": "code",
   "execution_count": null,
   "id": "8b05cccd-6c36-42fe-bf17-66fd783b1bec",
   "metadata": {},
   "outputs": [],
   "source": [
    "long_word[1:-2]"
   ]
  },
  {
   "cell_type": "code",
   "execution_count": null,
   "id": "9bdfa0bc-578f-44bb-8e34-6c936d2df7fa",
   "metadata": {},
   "outputs": [],
   "source": [
    "longer_word[::-1]"
   ]
  },
  {
   "cell_type": "markdown",
   "id": "deff5cbc-719a-4dd4-b342-55fa1d9e305b",
   "metadata": {},
   "source": [
    "## Solving Problems with Slices\n",
    "\n",
    "So far, we've been getting to know some of Python's built-in data structures and functionality. Let's try to use what we just learned to do some semi-useful work."
   ]
  },
  {
   "cell_type": "markdown",
   "id": "8195315d-d88d-4277-9df3-70267d93e14e",
   "metadata": {},
   "source": [
    "First, let me show you one little trick. Here's how you can get Python to capitalize a letter:"
   ]
  },
  {
   "cell_type": "code",
   "execution_count": null,
   "id": "b9eb66ee-2c50-4348-8026-bb65f42c2ede",
   "metadata": {},
   "outputs": [],
   "source": [
    "'b'.upper()"
   ]
  },
  {
   "cell_type": "markdown",
   "id": "4671eeb8-a722-49a1-a970-005ad4e4ea5b",
   "metadata": {},
   "source": [
    "Now you try with a different letter. Don't forget the parentheses at the end -- those are important."
   ]
  },
  {
   "cell_type": "code",
   "execution_count": null,
   "id": "8ddadf64-a36a-45e7-82ea-0bb0481a332b",
   "metadata": {},
   "outputs": [],
   "source": []
  },
  {
   "cell_type": "markdown",
   "id": "c7b8a611-0967-410e-ab80-89b074fc18e6",
   "metadata": {},
   "source": [
    "And now see what happens if you try to use the `upper` method on a capital letter."
   ]
  },
  {
   "cell_type": "code",
   "execution_count": null,
   "id": "a1fb989b-d5fb-471c-972e-307b90e1a839",
   "metadata": {},
   "outputs": [],
   "source": []
  },
  {
   "cell_type": "markdown",
   "id": "a1be9573-83cb-4b72-aa2c-3290f30b3eba",
   "metadata": {},
   "source": [
    "I'll also remind you of something you've seen before. You can use the `+` operator to join two strings. When we first saw it, we used the `+` operator to join two separate words."
   ]
  },
  {
   "cell_type": "code",
   "execution_count": null,
   "id": "cea770db-9193-4ba8-bccb-7f1fc68daefc",
   "metadata": {},
   "outputs": [],
   "source": [
    "\"Hello, \" + \"World!\""
   ]
  },
  {
   "cell_type": "markdown",
   "id": "c06f80b7-556e-46df-9c9d-5a4514728bb6",
   "metadata": {},
   "source": [
    "But there's no reason you can't use it to construct a single word."
   ]
  },
  {
   "cell_type": "code",
   "execution_count": null,
   "id": "1232e462-f71d-40a2-854d-db716cf6da73",
   "metadata": {},
   "outputs": [],
   "source": [
    "prefix = \"mis\"\n",
    "root = \"apprehension\"\n",
    "prefix + root"
   ]
  },
  {
   "cell_type": "code",
   "execution_count": null,
   "id": "06f1cb01-f963-420b-a391-29d0fc3d3477",
   "metadata": {},
   "outputs": [],
   "source": [
    "gerund_ending = 'ing'"
   ]
  },
  {
   "cell_type": "code",
   "execution_count": null,
   "id": "f3560f42-6c77-4b29-bfd1-380c2924b935",
   "metadata": {},
   "outputs": [],
   "source": [
    "'sing' + gerund_ending"
   ]
  },
  {
   "cell_type": "code",
   "execution_count": null,
   "id": "8dda4907-e054-4453-8cb5-0795caa18130",
   "metadata": {},
   "outputs": [],
   "source": [
    "'eat' + gerund_ending"
   ]
  },
  {
   "cell_type": "markdown",
   "id": "98be7cf7-5e3f-490e-a7ea-90e1b797a524",
   "metadata": {},
   "source": [
    "Okay, here's the problem to solve. Suppose you have a proper name, for example, `'augustine'`. It should be capitalized, but it's not. How can you capitalize it?"
   ]
  },
  {
   "cell_type": "markdown",
   "id": "ee1cdc8b-7c2d-495f-b3ab-02fe22eff522",
   "metadata": {},
   "source": [
    "Before we worry about the code, let's think through the problem itself. We can divide the name into two parts: the first letter and the rest. The first letter needs to be modified, but the rest of the name should remain unchanged. Once the first letter is capitalized, it needs to be joined again with the rest of the name. So here are some steps we can try to carry out in code:\n",
    "1. separate the name into two parts, the first letter and the rest\n",
    "2. capitalize the first letter\n",
    "3. join the capitalized first letter to the rest\n",
    "\n",
    "For the first part, we can use slices!"
   ]
  },
  {
   "cell_type": "code",
   "execution_count": null,
   "id": "31873f95-7237-40f0-a53f-14f7f3b56bd0",
   "metadata": {},
   "outputs": [],
   "source": [
    "name = 'augustine'\n",
    "first_letter = name[:1]\n",
    "rest = name[1:]"
   ]
  },
  {
   "cell_type": "markdown",
   "id": "02546295-e430-4c8f-820a-8bf27b316c0f",
   "metadata": {},
   "source": [
    "That the start index is *inclusive* and the stop index is *exclusive* seems a little weird, but here we can see how nicely it works out. When we want to divide the word into two parts and not leave anything out, the stop index of the first part is the same as the start index of the second part. We don't have to, but just to make sure we've done what we said we wanted to, let's see what's stored at the variables `first_letter` and `rest`."
   ]
  },
  {
   "cell_type": "code",
   "execution_count": null,
   "id": "a95b17f3-d006-49d5-a1c9-02a899acf357",
   "metadata": {},
   "outputs": [],
   "source": [
    "first_letter"
   ]
  },
  {
   "cell_type": "code",
   "execution_count": null,
   "id": "6a60ca99-0431-45e5-9cd1-2c693ae32b5a",
   "metadata": {},
   "outputs": [],
   "source": [
    "rest"
   ]
  },
  {
   "cell_type": "markdown",
   "id": "414c1eaf-ff97-4977-a75a-97c5755e71b4",
   "metadata": {},
   "source": [
    "Nice. Now we can use the little trick we just learned to capitalize the first letter."
   ]
  },
  {
   "cell_type": "code",
   "execution_count": null,
   "id": "73ed8540-3c4a-4ab3-9b68-d16bd9375840",
   "metadata": {},
   "outputs": [],
   "source": [
    "first_letter_capitalized = first_letter.upper()"
   ]
  },
  {
   "cell_type": "markdown",
   "id": "42c858bd-33e6-4bc3-ab07-99d58cf2733b",
   "metadata": {},
   "source": [
    "And just to make sure . . ."
   ]
  },
  {
   "cell_type": "code",
   "execution_count": null,
   "id": "5cda7504-8e5e-4fbc-b63a-825b44dd0b7f",
   "metadata": {},
   "outputs": [],
   "source": [
    "first_letter_capitalized"
   ]
  },
  {
   "cell_type": "markdown",
   "id": "771927b5-d4c2-44a4-9ab2-c004d20311bb",
   "metadata": {},
   "source": [
    "Still on track. All that's left to do is join the capitalized first letter to the `rest` of the name."
   ]
  },
  {
   "cell_type": "code",
   "execution_count": null,
   "id": "0a79eafb-42e8-4d53-87a9-3454f1eb5f66",
   "metadata": {},
   "outputs": [],
   "source": [
    "first_letter_capitalized + rest"
   ]
  },
  {
   "cell_type": "markdown",
   "id": "9c521f4b-0cff-47a8-93ac-4b685dd55f7a",
   "metadata": {},
   "source": [
    "Voilà! We did it. Nothing we did was specific to the name `augustine`. We could have performed the same steps with any single name and it would have worked. We came up with and implemented a **general algorithm** for capitalizing names."
   ]
  },
  {
   "cell_type": "markdown",
   "id": "4f6a8b39-ccd6-4778-833e-8f7f4aeb3954",
   "metadata": {},
   "source": [
    "To prove it to yourself and for the practice, now you try. Complete the code block, below, so that what the last step evaluates to is a capitalized name. I'd split up the process into multiple cells for demonstration purposes, but you can do all the work in the cell, below."
   ]
  },
  {
   "cell_type": "code",
   "execution_count": null,
   "id": "148a9f92-9c81-44b1-974a-bfd2a52d44b8",
   "metadata": {},
   "outputs": [],
   "source": [
    "reindeer = 'rudolph'"
   ]
  },
  {
   "cell_type": "markdown",
   "id": "19d5307f-9ef7-4e66-90b6-5b122769de2d",
   "metadata": {},
   "source": [
    "## BONUS\n",
    "\n",
    "We capitalized the name over several steps, assigning intermediate results to variables. That makes it easier to see what's happening, but it's probably not code you'd see in a professional code base. In case you're interested, here's what the same algorithm might look like implemented as a \"one-liner\""
   ]
  },
  {
   "cell_type": "code",
   "execution_count": null,
   "id": "404c7a77-4926-41ad-a084-f8db8698cd38",
   "metadata": {},
   "outputs": [],
   "source": [
    "name[:1].upper() + name[1:]"
   ]
  },
  {
   "cell_type": "markdown",
   "id": "f3e8f8e6-12b3-4155-933d-9e227e5b9e2d",
   "metadata": {},
   "source": [
    "## DOUBLE BONUS\n",
    "\n",
    "I'm getting a little ahead of myself. But Python is known for (and loved because of) its **readability**: it's often possible to figure out what Python code will do even if you don't know much Python. Let's put that to the test. Before you execute the code, below, see if you can guess what will happen."
   ]
  },
  {
   "cell_type": "code",
   "execution_count": null,
   "id": "f6eced26-fc56-451a-880b-1c4386f9ddf4",
   "metadata": {},
   "outputs": [],
   "source": [
    "studious_saint = \"st. thomas aquinas\"\n",
    "capitalized = ''\n",
    "\n",
    "for name in studious_saint.split():\n",
    "    capitalized += name[:1].upper() + name[1:] + ' '\n",
    "\n",
    "capitalized.strip()"
   ]
  }
 ],
 "metadata": {
  "kernelspec": {
   "display_name": "Python 3 (ipykernel)",
   "language": "python",
   "name": "python3"
  },
  "language_info": {
   "codemirror_mode": {
    "name": "ipython",
    "version": 3
   },
   "file_extension": ".py",
   "mimetype": "text/x-python",
   "name": "python",
   "nbconvert_exporter": "python",
   "pygments_lexer": "ipython3",
   "version": "3.12.3"
  }
 },
 "nbformat": 4,
 "nbformat_minor": 5
}
