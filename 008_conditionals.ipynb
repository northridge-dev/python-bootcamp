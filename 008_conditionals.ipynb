{
 "cells": [
  {
   "cell_type": "markdown",
   "id": "3cea4c8b-9faa-4602-9445-ce4bf3ee1c43",
   "metadata": {},
   "source": [
    "# Conditionals: `if`, `elif`, and `else`\n",
    "\n",
    "We make **conditional** plans all the time. Here's an example:\n",
    "  - If you have a lot of homework, you'll start your homework immediately after school.\n",
    "  - But if you have homework but not too much, you'll hang out with friends for an hour.\n",
    "  - Otherwise (if you have very little or no homework), you'll hang out with friends until it's time for dinner.\n",
    "\n",
    "Here's what that conditional might look like in code:"
   ]
  },
  {
   "cell_type": "code",
   "execution_count": null,
   "id": "80add3af-9793-4014-812e-fafb66917c3c",
   "metadata": {},
   "outputs": [],
   "source": [
    "homework_level = 2\n",
    "\n",
    "if homework_level > 6:\n",
    "    see_friends = False\n",
    "    start_homework_before_dinner = True\n",
    "elif homework_level >= 3:\n",
    "    see_friends = True\n",
    "    start_homework_before_dinner = True\n",
    "else:\n",
    "    see_friends = True\n",
    "    start_homework_before_dinner = False\n",
    "\n",
    "print(f\"Will see friends? {see_friends}. Will start homework before dinner? {start_homework_before_dinner}.\")"
   ]
  },
  {
   "cell_type": "markdown",
   "id": "e9a94e8a-9084-4906-97fe-179ee661cd0e",
   "metadata": {},
   "source": [
    "Try changing the value of `homework_level` and re-run the code. Under different **conditions** -- the value of `homework_level` in this case -- different code is executed."
   ]
  },
  {
   "cell_type": "markdown",
   "id": "2a62c9a5-65b3-471f-869b-84926074caa3",
   "metadata": {},
   "source": [
    "## if"
   ]
  },
  {
   "cell_type": "markdown",
   "id": "9f3f98ed-80d8-44e3-8f39-8118d1b55ed7",
   "metadata": {},
   "source": [
    "Let's take the conditional piece by piece. We can call the first part the **if** condition. Here's the pattern:\n",
    "```\n",
    "if <test>:\n",
    "  <code to execute>\n",
    "```\n",
    "\n",
    "- `if` is a reserved keyword in Python that signals the beginning of a conditional\n",
    "- The \"test\" is Boolean value or an expression (like `homework_level > 6` that will evaluate to a Boolean.\n",
    "- A colon (`:`) after the test value / expression. It's small, but you can't forget it.\n",
    "- An indented code block.\n",
    "\n",
    "The code in the indented code block will only execute **if** the test value is `True`. If the test value is `False`, the Python interpreter will skip over the indented code block. "
   ]
  },
  {
   "cell_type": "markdown",
   "id": "cc13cbcf-e14a-47c7-90ce-e43aa3cba36a",
   "metadata": {},
   "source": [
    "You'll often see `if` conditions on their own, without the `elif` or `else` parts. Here's a simpler example:"
   ]
  },
  {
   "cell_type": "code",
   "execution_count": null,
   "id": "853bd973-76a2-4b66-a48f-7ccc3edeab51",
   "metadata": {},
   "outputs": [],
   "source": [
    "is_negative = False\n",
    "number = -5\n",
    "\n",
    "if number >= 0:\n",
    "    is_negative = True\n",
    "\n",
    "is_negative"
   ]
  },
  {
   "cell_type": "markdown",
   "id": "69f83b20-4b34-41dd-809e-d196c775385a",
   "metadata": {},
   "source": [
    "In this example, we again made a comparison (`number >= 0`) that evaluates to a Boolean. Here's another example that just checks the value of a Boolean variable:"
   ]
  },
  {
   "cell_type": "code",
   "execution_count": null,
   "id": "10884da5-7533-491a-8002-d7bf50217545",
   "metadata": {},
   "outputs": [],
   "source": [
    "should_print = True\n",
    "\n",
    "if should_print:\n",
    "    print('The should_print variable must have been assigned the value True')"
   ]
  },
  {
   "cell_type": "markdown",
   "id": "b20b9f17-a24a-498f-b639-8cc6d9700609",
   "metadata": {},
   "source": [
    "You *could* write an if-block where the test value was always true . . ."
   ]
  },
  {
   "cell_type": "code",
   "execution_count": null,
   "id": "f2f5ef90-0744-4256-afb1-4b0370bae36a",
   "metadata": {},
   "outputs": [],
   "source": [
    "if True:\n",
    "    print(\"This code block will always execute. It's not much of a conditional.\")"
   ]
  },
  {
   "cell_type": "markdown",
   "id": "4cba3fa9-83e8-4929-a02c-efa908f909f9",
   "metadata": {},
   "source": [
    "But why bother with a \"non-conditional conditional\"?"
   ]
  },
  {
   "cell_type": "markdown",
   "id": "7d6c37ea-b4e6-4900-9cc7-e0aea41eff31",
   "metadata": {},
   "source": [
    "## elif"
   ]
  },
  {
   "cell_type": "markdown",
   "id": "d8a2fac0-e855-4ce8-a4b2-4dca5705dc37",
   "metadata": {},
   "source": [
    "The second part of our homework conditional starts with another reserved keyword, `elif`, which is short for \"else if\". \n",
    "\n",
    "Look back at our example. If `homework_level` is set to `7`, both the `if` and the `elif` conditions are `True`:\n",
    "  - `homework_level > 6` --> `True`\n",
    "  - `homework_level >= 3` --> `True`\n",
    "\n",
    "So why, when `homework_level` is `7`, is `see_friends` set to `False`? \n",
    "\n",
    "You could think of the `elif` block as a second `if` block. But an `elif` condition will only be evaluated if none of the other conditions defined above it have evaluated to `True`. When `homework_level` is `7`, the first `if` condition is `True`, so the `elif` condition is never tested. But if we set `homework_level` to `5` (meaning the first `if` condition will be `False`), the `elif` condition *will* be evaluated. And just like the first `if` block, if the `elif` condition is `True`, the code in the `elif` block will be executed. Otherwise, it won't."
   ]
  },
  {
   "cell_type": "markdown",
   "id": "ae32ccb7-b814-4350-9f21-64cab1d0fda9",
   "metadata": {},
   "source": [
    "You can define more than one `elif` blocks. But you have to be careful how you order them because once one of those conditions evaluates to `True`, the interpreter won't even look at the conditions that follow. Here's an example:"
   ]
  },
  {
   "cell_type": "code",
   "execution_count": null,
   "id": "1f17279d-7b5f-40dd-9ddb-4d4fa671787b",
   "metadata": {},
   "outputs": [],
   "source": [
    "has_fur = False\n",
    "lays_eggs = True\n",
    "can_fly = False\n",
    "lives_in_water = True\n",
    "can_breathe_air = True\n",
    "\n",
    "if has_fur or not lays_eggs:\n",
    "    animal_class = 'mammal'\n",
    "elif lays_eggs and can_fly:\n",
    "    animal_class = 'bird'\n",
    "elif lays_eggs and lives_in_water and can_breathe_air:\n",
    "    animal_class = 'amphibian'\n",
    "elif lays_eggs and lives_in_water and not can_breathe_air:\n",
    "    animal_class = 'fish'\n",
    "elif lays_eggs and not can_fly and not lives_in_water:\n",
    "    animal_class = 'reptile'\n",
    "else:\n",
    "    animal_class = 'unknown'\n",
    "\n",
    "animal_class"
   ]
  },
  {
   "cell_type": "markdown",
   "id": "7c8f094e-5131-4482-9f1d-2b399fd0bdc0",
   "metadata": {},
   "source": [
    "The code, above, may not be a perfect classifier, but it gives you a sense of how to chain together `elif` conditions. `animal_class` is only assigned once and no more `elif` conditions are evaluated once a match is found. \n",
    "\n",
    "The `else` condition provides a kind of \"catch-all\", a way to assign a value even if none of your previous conditions matched."
   ]
  },
  {
   "cell_type": "markdown",
   "id": "c9b7c33b-3c32-4469-b283-322ef3a20752",
   "metadata": {},
   "source": [
    "## else\n",
    "\n",
    "`else` is also a condition, but a condition without a test. If you include an `else` block, its code will execute any time no previous condition is satisfied. In the example, above, the `else` block assigned a value to `animal_class` in case you started with a set of values that didn't match any of the previous `if` and `elif` tests. But if any one of those tests evaluated to `True`, the `else` block would never run."
   ]
  },
  {
   "cell_type": "markdown",
   "id": "9441a33b-bc12-43ad-8205-1aea8ea26f78",
   "metadata": {},
   "source": [
    "## You Try\n",
    "\n",
    "Use `if`, `elif`, and `else` conditions to convert a numeric score into a letter grade. For example, when `score` is set to `84`, your conditionals should result in `grade` being assigned the value `B`."
   ]
  },
  {
   "cell_type": "code",
   "execution_count": null,
   "id": "25b9d4d6-637e-4bc7-8d6c-f6e0636b5a5e",
   "metadata": {},
   "outputs": [],
   "source": [
    "score = 84\n",
    "\n",
    "# put your conditionals here\n",
    "\n",
    "\n",
    "grade"
   ]
  }
 ],
 "metadata": {
  "kernelspec": {
   "display_name": "Python 3 (ipykernel)",
   "language": "python",
   "name": "python3"
  },
  "language_info": {
   "codemirror_mode": {
    "name": "ipython",
    "version": 3
   },
   "file_extension": ".py",
   "mimetype": "text/x-python",
   "name": "python",
   "nbconvert_exporter": "python",
   "pygments_lexer": "ipython3",
   "version": "3.12.3"
  }
 },
 "nbformat": 4,
 "nbformat_minor": 5
}
